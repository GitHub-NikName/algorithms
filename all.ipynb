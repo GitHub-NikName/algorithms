{
 "cells": [
  {
   "cell_type": "markdown",
   "source": [
    "# Основные структуры данных"
   ],
   "metadata": {
    "collapsed": false
   }
  },
  {
   "cell_type": "markdown",
   "source": [
    "### F. Стек - Max"
   ],
   "metadata": {
    "collapsed": false
   }
  },
  {
   "cell_type": "code",
   "execution_count": 22,
   "outputs": [],
   "source": [
    "from typing import Optional, Union\n",
    "\n",
    "\n",
    "class StackMax:\n",
    "    def __init__(self):\n",
    "        self.items = []\n",
    "\n",
    "    def push(self, item: str) -> None:\n",
    "        self.items.append(int(item))\n",
    "\n",
    "    def pop(self) -> None:\n",
    "        if not len(self.items):\n",
    "            raise IndexError('error')\n",
    "        self.items.pop()\n",
    "\n",
    "    def get_max(self) -> int:\n",
    "        if not len(self.items):\n",
    "            raise IndexError('None')\n",
    "        return max(self.items)\n",
    "\n",
    "\n",
    "def input_data() -> list:\n",
    "    n = int(input())\n",
    "    data = [input() for _ in range(n)]\n",
    "    return data\n",
    "\n",
    "\n",
    "def make_magik(stack: StackMax, el: str) -> Optional[Union[int, str]]:\n",
    "    command, *value = el.split()\n",
    "    call = getattr(stack, command)\n",
    "    try:\n",
    "        return call(*value)\n",
    "    except IndexError as e:\n",
    "        return e.args[0]\n",
    "\n",
    "\n",
    "def algorithm(data: list) -> list:\n",
    "    stack = StackMax()\n",
    "    result = []\n",
    "    for el in data:\n",
    "        res = make_magik(stack, el)\n",
    "        if res is not None:\n",
    "            result.append(res)\n",
    "    return result\n",
    "\n",
    "\n",
    "def main() -> None:\n",
    "    data = input_data()\n",
    "    res = algorithm(data)\n",
    "    print(*res, sep='\\n')\n",
    "\n",
    "\n",
    "def test():\n",
    "    res = algorithm(['get_max', 'push 7', 'pop', 'push -2', 'push -1', 'pop',\n",
    "                     'get_max', 'get_max'])\n",
    "    assert res == ['None', -2, -2]\n",
    "\n",
    "\n",
    "if __name__ == '__main__':\n",
    "    main()"
   ],
   "metadata": {
    "collapsed": false
   }
  },
  {
   "cell_type": "markdown",
   "source": [
    "### G. Стек - MaxEffective"
   ],
   "metadata": {
    "collapsed": false
   }
  },
  {
   "cell_type": "code",
   "execution_count": 29,
   "outputs": [],
   "source": [
    "from typing import Optional, Union\n",
    "\n",
    "\n",
    "class StackMaxEffective:\n",
    "    def __init__(self):\n",
    "        self.__items: list = []\n",
    "        self.__max_items: list = [float('-inf')]\n",
    "\n",
    "    def push(self, item: str) -> None:\n",
    "        item = int(item)\n",
    "        self.__items.append(item)\n",
    "        if item >= self.__max_items[-1]:\n",
    "            self.__max_items.append(item)\n",
    "\n",
    "    def pop(self) -> None:\n",
    "        if self.__is_empty():\n",
    "            raise IndexError('error')\n",
    "        item = self.__items.pop()\n",
    "        if item == self.__max_items[-1]:\n",
    "            self.__max_items.pop()\n",
    "\n",
    "    def get_max(self) -> int:\n",
    "        if self.__is_empty():\n",
    "            raise IndexError('None')\n",
    "        return self.__max_items[-1]\n",
    "\n",
    "    def __is_empty(self) -> bool:\n",
    "        return not self.__items\n",
    "\n",
    "\n",
    "def input_data() -> list:\n",
    "    n = int(input())\n",
    "    return [input() for _ in range(n)]\n",
    "\n",
    "\n",
    "def make_magik(stack: StackMaxEffective, el: str) -> Optional[Union[int, str]]:\n",
    "    command, *value = el.split()\n",
    "    call = getattr(stack, command)\n",
    "    try:\n",
    "        return call(*value)\n",
    "    except IndexError as e:\n",
    "        return e.args[0]\n",
    "\n",
    "\n",
    "def algorithm(data: list) -> list:\n",
    "    stack = StackMaxEffective()\n",
    "    result = []\n",
    "    for el in data:\n",
    "        res = make_magik(stack, el)\n",
    "        if res is not None:\n",
    "            result.append(res)\n",
    "    return result\n",
    "\n",
    "\n",
    "def main() -> None:\n",
    "    data = input_data()\n",
    "    res = algorithm(data)\n",
    "    print(*res, sep='\\n')\n",
    "\n",
    "\n",
    "def test():\n",
    "    res = algorithm(['pop', 'pop', 'push 4', 'push -5', 'push 7', 'pop', 'pop',\n",
    "                     'get_max', 'pop', 'get_max'])\n",
    "    assert res == ['error', 'error', 4, 'None']\n",
    "\n",
    "\n",
    "if __name__ == '__main__':\n",
    "    main()"
   ],
   "metadata": {
    "collapsed": false
   }
  },
  {
   "cell_type": "markdown",
   "source": [
    "### H. Скобочная последовательность"
   ],
   "metadata": {
    "collapsed": false
   }
  },
  {
   "cell_type": "code",
   "execution_count": 21,
   "outputs": [
    {
     "name": "stdout",
     "output_type": "stream",
     "text": [
      "True\n",
      "True\n",
      "True\n",
      "False\n"
     ]
    }
   ],
   "source": [
    "class BracketStack:\n",
    "    def __init__(self):\n",
    "        self.__items: list = ['']\n",
    "\n",
    "    def push(self, item: str) -> None:\n",
    "        self.__items.append(item)\n",
    "\n",
    "    def pop(self) -> str:\n",
    "        return self.__items.pop()\n",
    "\n",
    "    @property\n",
    "    def top(self) -> str:\n",
    "        return self.__items[-1]\n",
    "\n",
    "\n",
    "def input_data() -> str:\n",
    "    return input()\n",
    "\n",
    "\n",
    "def is_correct_bracket_seq(seq: str) -> bool:\n",
    "    if not seq:\n",
    "        return True\n",
    "    stack = BracketStack()\n",
    "    d = {')': '(', ']': '[', '}': '{'}\n",
    "    for item in seq:\n",
    "        if stack.top == d.get(item):\n",
    "            stack.pop()\n",
    "        else:\n",
    "            stack.push(item)\n",
    "    return not stack.pop()\n",
    "\n",
    "def main() -> None:\n",
    "    seq = input_data()\n",
    "    res = is_correct_bracket_seq(seq)\n",
    "    print(res)\n",
    "\n",
    "\n",
    "def test():\n",
    "    seq = ['', '{[()]}', '()', '({[]}']\n",
    "    for i in seq:\n",
    "        print(is_correct_bracket_seq(i))\n",
    "\n",
    "\n",
    "if __name__ == '__main__':\n",
    "    # main()\n",
    "    test()"
   ],
   "metadata": {
    "collapsed": false
   }
  },
  {
   "cell_type": "markdown",
   "source": [
    "## I. Ограниченная очередь"
   ],
   "metadata": {
    "collapsed": false
   }
  },
  {
   "cell_type": "code",
   "execution_count": 28,
   "outputs": [],
   "source": [
    "# I. Ограниченная очередь\n",
    "from typing import Tuple, Optional, Union\n",
    "\n",
    "\n",
    "class MyQueueSized:\n",
    "    def __init__(self, n):\n",
    "        self.__queue: list = [None] * n\n",
    "        self.__max_size: int = n\n",
    "        self.__head: int = 0\n",
    "        self.__tail: int = 0\n",
    "        self.__size: int = 0\n",
    "\n",
    "    def push(self, x: str) -> None:\n",
    "        if self.__size == self.__max_size:\n",
    "            raise IndexError('error')\n",
    "        self.__queue[self.__tail] = int(x)\n",
    "        self.__tail = self.__get_index(self.__tail)\n",
    "        self.__size += 1\n",
    "\n",
    "    def pop(self) -> int:\n",
    "        if self.__size == 0:\n",
    "            raise IndexError('None')\n",
    "        x = self.__queue[self.__head]\n",
    "        self.__queue[self.__head] = None\n",
    "        self.__head = self.__get_index(self.__head)\n",
    "        self.__size -= 1\n",
    "        return x\n",
    "\n",
    "    def peek(self) -> int:\n",
    "        if self.__size == 0:\n",
    "            raise IndexError('None')\n",
    "        return self.__queue[self.__head]\n",
    "\n",
    "    def size(self) -> int:\n",
    "        return self.__size\n",
    "\n",
    "    def __get_index(self, index: int) -> int:\n",
    "        return (index + 1) % self.__max_size\n",
    "\n",
    "\n",
    "def input_data() -> Tuple[int, list]:\n",
    "    n = int(input())\n",
    "    max_size = int(input())\n",
    "    data = [input() for _ in range(n)]\n",
    "    return max_size, data\n",
    "\n",
    "\n",
    "def make_magik(queue: MyQueueSized, el: str) -> Optional[Union[str, int]]:\n",
    "    cmd, *val = el.split()\n",
    "    call = getattr(queue, cmd)\n",
    "    try:\n",
    "        return call(*val)\n",
    "    except IndexError as e:\n",
    "        return e.args[0]\n",
    "\n",
    "\n",
    "def algorithm(max_size: int, data: list) -> list:\n",
    "    queue = MyQueueSized(max_size)\n",
    "    result = []\n",
    "    for el in data:\n",
    "        res = make_magik(queue, el)\n",
    "        if res is not None:\n",
    "            result.append(res)\n",
    "    return result\n",
    "\n",
    "\n",
    "def main() -> None:\n",
    "    max_size, data = input_data()\n",
    "    res = algorithm(max_size, data)\n",
    "    print(*res, sep='\\n')\n",
    "\n",
    "\n",
    "def test():\n",
    "    res = algorithm(2, ['peek', 'push 5', 'push 2', 'peek', 'size', 'size',\n",
    "                        'push 1', 'size'])\n",
    "    assert res == ['None', 5, 2, 2, 'error', 2]\n",
    "\n",
    "\n",
    "if __name__ == '__main__':\n",
    "    # main()\n",
    "    test()"
   ],
   "metadata": {
    "collapsed": false
   }
  },
  {
   "cell_type": "markdown",
   "source": [
    "## J. Списочная очередь"
   ],
   "metadata": {
    "collapsed": false
   }
  },
  {
   "cell_type": "code",
   "execution_count": 30,
   "outputs": [],
   "source": [
    "# J. Списочная очередь\n",
    "\n",
    "from typing import Optional\n",
    "\n",
    "\n",
    "class Node:\n",
    "    def __init__(self, value: int, next_item=None):\n",
    "        self.value: int = value\n",
    "        self.next_item: Node = next_item\n",
    "\n",
    "\n",
    "class Queue:\n",
    "    def __init__(self):\n",
    "        self.__size: int = 0\n",
    "        self.__head: Optional[Node] = None\n",
    "        self.__tail: Optional[Node] = None\n",
    "\n",
    "    def get(self) -> int:\n",
    "        if self.__size == 0:\n",
    "            raise IndexError\n",
    "        x = self.__head.value\n",
    "        self.__head = self.__head.next_item\n",
    "        self.__size -= 1\n",
    "        return x\n",
    "\n",
    "    def put(self, value: str) -> None:\n",
    "        value = int(value)\n",
    "        if self.__size == 0:\n",
    "            self.__head = Node(value)\n",
    "            self.__tail = self.__head\n",
    "        else:\n",
    "            self.__tail.next_item = Node(value)\n",
    "            self.__tail = self.__tail.next_item\n",
    "        self.__size += 1\n",
    "\n",
    "    def size(self) -> int:\n",
    "        return self.__size\n",
    "\n",
    "\n",
    "def input_data() -> list:\n",
    "    n = int(input())\n",
    "    return [input() for _ in range(n)]\n",
    "\n",
    "\n",
    "def que_proc(commands: list) -> list:\n",
    "    que = Queue()\n",
    "    result = []\n",
    "    for el in commands:\n",
    "        cmd, *val = el.split()\n",
    "        call = getattr(que, cmd)\n",
    "        try:\n",
    "            res = call(*val)\n",
    "            if res is not None:\n",
    "                result.append(res)\n",
    "        except IndexError:\n",
    "            result.append('error')\n",
    "    return result\n",
    "\n",
    "\n",
    "def main() -> None:\n",
    "    commands = input_data()\n",
    "    res = que_proc(commands)\n",
    "    print(*res, sep='\\n')\n",
    "\n",
    "\n",
    "def test():\n",
    "    res = que_proc(['put -34', 'put -23', 'get', 'size', 'get', 'size', 'get',\n",
    "                    'get', 'put 80', 'size'])\n",
    "    assert res == [-34, 1, -23, 0, 'error', 'error', 1]\n",
    "\n",
    "\n",
    "if __name__ == '__main__':\n",
    "    # main()\n",
    "    test()"
   ],
   "metadata": {
    "collapsed": false
   }
  },
  {
   "cell_type": "markdown",
   "source": [
    "## K. Рекурсивные числа Фибоначчи"
   ],
   "metadata": {
    "collapsed": false
   }
  },
  {
   "cell_type": "code",
   "execution_count": 33,
   "outputs": [
    {
     "name": "stdout",
     "output_type": "stream",
     "text": [
      "1\n",
      "CPU times: user 16.8 ms, sys: 4.02 ms, total: 20.8 ms\n",
      "Wall time: 1.63 s\n"
     ]
    }
   ],
   "source": [
    "from functools import lru_cache\n",
    "\n",
    "\n",
    "@lru_cache()\n",
    "def algorithm(n: int) -> int:\n",
    "    if n == 0 or n == 1:\n",
    "        return 1\n",
    "    return algorithm(n-1) + algorithm(n - 2)\n",
    "\n",
    "\n",
    "def input_data() -> int:\n",
    "    return int(input())\n",
    "\n",
    "\n",
    "def main() -> None:\n",
    "    n = input_data()\n",
    "    res = algorithm(n)\n",
    "    print(res)\n",
    "\n",
    "\n",
    "if __name__ == '__main__':\n",
    "    %time main()"
   ],
   "metadata": {
    "collapsed": false
   }
  },
  {
   "cell_type": "markdown",
   "source": [
    "## L. Фибоначчи по модулю"
   ],
   "metadata": {
    "collapsed": false
   }
  },
  {
   "cell_type": "markdown",
   "source": [
    "### v.1 циклом"
   ],
   "metadata": {
    "collapsed": false
   }
  },
  {
   "cell_type": "code",
   "execution_count": 35,
   "outputs": [
    {
     "name": "stdout",
     "output_type": "stream",
     "text": [
      "9\n",
      "CPU times: user 12.7 ms, sys: 8.87 ms, total: 21.6 ms\n",
      "Wall time: 1.94 s\n"
     ]
    }
   ],
   "source": [
    "def fib_mod(n, k):\n",
    "    mod = 10 ** k\n",
    "    a, b = 1, 1\n",
    "    if n < 2:\n",
    "        return 1\n",
    "    i = 0\n",
    "    while i != n:\n",
    "        a, b = b, (a+b) % mod\n",
    "        i += 1\n",
    "    return a\n",
    "\n",
    "\n",
    "def input_data() -> list:\n",
    "    return list(map(int,input().split()))\n",
    "\n",
    "\n",
    "def main() -> None:\n",
    "    n, k = input_data()\n",
    "    res = fib_mod(n, k)\n",
    "    print(res)\n",
    "\n",
    "\n",
    "if __name__ == '__main__':\n",
    "    %time main()"
   ],
   "metadata": {
    "collapsed": false
   }
  },
  {
   "cell_type": "markdown",
   "source": [
    "### v.2 матрицей"
   ],
   "metadata": {
    "collapsed": false
   }
  },
  {
   "cell_type": "code",
   "execution_count": 71,
   "outputs": [
    {
     "name": "stdout",
     "output_type": "stream",
     "text": [
      "CPU times: user 992 µs, sys: 170 µs, total: 1.16 ms\n",
      "Wall time: 800 µs\n"
     ]
    }
   ],
   "source": [
    "# v.2\n",
    "\n",
    "class FiboMatrix:\n",
    "    def __init__(self, m, k):\n",
    "        self.data = m\n",
    "        self.k = k\n",
    "        self.mod = 10 ** k\n",
    "\n",
    "    def __matmul__(self, y):\n",
    "        ans = self.copy()\n",
    "        ans @= y\n",
    "        return ans\n",
    "\n",
    "    def __imatmul__(self, y):\n",
    "        self.data = [[sum((a * b) % self.mod for a, b in zip(row_a, col_b))\n",
    "                      for col_b in zip(*y.data)] for row_a in self.data]\n",
    "        return self\n",
    "\n",
    "    def __pow__(self, exp):\n",
    "        cur = FiboMatrix([[1, 0],[ 0, 1]], self.k)\n",
    "        base = self.copy()\n",
    "        while exp:\n",
    "            if exp & 1:\n",
    "                exp -= 1\n",
    "                cur @= base\n",
    "            else:\n",
    "                exp >>= 1\n",
    "                base @= base\n",
    "        return cur\n",
    "\n",
    "    def copy(self):\n",
    "        return FiboMatrix(self.data, self.k)\n",
    "\n",
    "\n",
    "def fib_mod(n, k):\n",
    "    fib_mat = FiboMatrix([[0, 1], [1, 1]], k)\n",
    "    fib_pow = fib_mat ** n\n",
    "    return fib_pow.data[1][1] % 10 ** k\n",
    "\n",
    "\n",
    "def input_data() -> list:\n",
    "    return list(map(int, input().split()))\n",
    "\n",
    "\n",
    "def main() -> None:\n",
    "    n, k = input_data()\n",
    "    res = fib_mod(n, k)\n",
    "    print(res)\n",
    "\n",
    "\n",
    "def test():\n",
    "    assert fib_mod(3, 1) == 3\n",
    "    assert fib_mod(10, 1) == 9\n",
    "    assert fib_mod(70, 6) == 170129\n",
    "    assert fib_mod(237, 7) == 471519\n",
    "\n",
    "\n",
    "if __name__ == '__main__':\n",
    "    %time main()\n",
    "    # %time test()"
   ],
   "metadata": {
    "collapsed": false
   }
  },
  {
   "cell_type": "markdown",
   "source": [
    "### v.3 быстрый алгоритм"
   ],
   "metadata": {
    "collapsed": false
   }
  },
  {
   "cell_type": "code",
   "execution_count": 78,
   "outputs": [
    {
     "name": "stdout",
     "output_type": "stream",
     "text": [
      "3\n"
     ]
    }
   ],
   "source": [
    "def fib_mod(n, mod):\n",
    "    if n == 0:\n",
    "        return 0, 1\n",
    "    else:\n",
    "        a, b = fib_mod(n // 2, mod)\n",
    "        c = multiply(a, multiply(b, 2) - a)\n",
    "        d = multiply(a, a) + multiply(b, b)\n",
    "    if n & 1:\n",
    "        return d % mod, (c + d) % mod\n",
    "    return c % mod, d % mod\n",
    "\n",
    "\n",
    "def input_data() -> list:\n",
    "    return list(map(int, input().split()))\n",
    "\n",
    "\n",
    "def main() -> None:\n",
    "    n, k = input_data()\n",
    "    mod = 10 ** k\n",
    "    res = fib_mod(n, mod)[1]\n",
    "    print(res)\n",
    "\n",
    "\n",
    "def test():\n",
    "    # mod = 10 ** k\n",
    "    assert fib_mod(3, 10)[1] == 3\n",
    "    assert fib_mod(10, 10)[1] == 9\n",
    "    assert fib_mod(70, 1000000)[1] == 170129\n",
    "    assert fib_mod(237, 10000000)[1] == 471519\n",
    "    print(fib_mod(3, 10)[1])\n",
    "\n",
    "\n",
    "if __name__ == '__main__':\n",
    "    # main()\n",
    "    test()"
   ],
   "metadata": {
    "collapsed": false
   }
  },
  {
   "cell_type": "markdown",
   "source": [
    "# Финальные задачи (12 спринт)"
   ],
   "metadata": {
    "collapsed": false
   }
  },
  {
   "cell_type": "markdown",
   "source": [
    "## A. Дек"
   ],
   "metadata": {
    "collapsed": false
   }
  },
  {
   "cell_type": "code",
   "execution_count": 36,
   "outputs": [],
   "source": [
    "from typing import Tuple, List, Optional\n",
    "\n",
    "\n",
    "class Deque:\n",
    "    def __init__(self, n: int):\n",
    "        self.__deque: list = [None] * n\n",
    "        self.__max_size: int = n\n",
    "        self.__head: int = 0\n",
    "        self.__tail: int = -1\n",
    "        self.__size: int = 0\n",
    "\n",
    "    def push_back(self, value: str) -> None:\n",
    "        self.__is_full()\n",
    "        self.__push(self.__tail, value)\n",
    "        self.__tail = self.__get_index(self.__tail, -1)\n",
    "\n",
    "    def push_front(self, value: str) -> None:\n",
    "        self.__is_full()\n",
    "        self.__push(self.__head, value)\n",
    "        self.__head = self.__get_index(self.__head, 1)\n",
    "\n",
    "    def pop_back(self) -> str:\n",
    "        self.__is_empty()\n",
    "        self.__tail = self.__get_index(self.__tail, 1)\n",
    "        return self.__pop(self.__tail)\n",
    "\n",
    "    def pop_front(self) -> str:\n",
    "        self.__is_empty()\n",
    "        self.__head = self.__get_index(self.__head, -1)\n",
    "        return self.__pop(self.__head)\n",
    "\n",
    "    def __push(self, index: int, value: str) -> None:\n",
    "        self.__deque[index] = value\n",
    "        self.__size += 1\n",
    "\n",
    "    def __pop(self, index: int) -> str:\n",
    "        x = self.__deque[index]\n",
    "        self.__deque[index] = None\n",
    "        self.__size -= 1\n",
    "        return x\n",
    "\n",
    "    def __get_index(self, index: int, inc: int) -> int:\n",
    "        return (index + inc) % self.__max_size\n",
    "\n",
    "    def __is_empty(self) -> None:\n",
    "        if self.__size == 0:\n",
    "            raise IndexError\n",
    "\n",
    "    def __is_full(self) -> None:\n",
    "        if self.__size == self.__max_size:\n",
    "            raise IndexError\n",
    "\n",
    "\n",
    "def input_data() -> Tuple[int, List[str]]:\n",
    "    n, m = int(input()), int(input())\n",
    "    commands = [input() for _ in range(n)]\n",
    "    return m, commands\n",
    "\n",
    "\n",
    "def deque_proc(deq: Deque, el: str) -> Optional[str]:\n",
    "    cmd, *val = el.split()\n",
    "    call = getattr(deq, cmd)\n",
    "    try:\n",
    "        return call(*val)\n",
    "    except IndexError:\n",
    "        return 'error'\n",
    "\n",
    "\n",
    "def algorithm(m: int, data: list) -> list:\n",
    "    deq = Deque(m)\n",
    "    result = []\n",
    "    for el in data:\n",
    "        res = deque_proc(deq, el)\n",
    "        if res:\n",
    "            result.append(res)\n",
    "    return result\n",
    "\n",
    "\n",
    "def main() -> None:\n",
    "    m, data = input_data()\n",
    "    res = algorithm(m, data)\n",
    "    print(*res, sep='\\n')\n",
    "\n",
    "\n",
    "def test():\n",
    "    res = algorithm(4, ['push_front 861', 'push_front -819', 'pop_back',\n",
    "                        'pop_back'])\n",
    "    assert res == ['861', '-819']\n",
    "\n",
    "\n",
    "if __name__ == '__main__':\n",
    "    main()"
   ],
   "metadata": {
    "collapsed": false
   }
  },
  {
   "cell_type": "markdown",
   "source": [
    "## B. Калькулятор"
   ],
   "metadata": {
    "collapsed": false
   },
   "execution_count": 0
  },
  {
   "cell_type": "code",
   "execution_count": 36,
   "outputs": [],
   "source": [
    "class Stack(list):\n",
    "    def push(self, value):\n",
    "        self.append(value)\n",
    "\n",
    "\n",
    "def calc(data: list) -> int:\n",
    "    stack = Stack()\n",
    "    for el in data:\n",
    "        if el.lstrip('+-*/').isdigit():\n",
    "            stack.push(int(el))\n",
    "        else:\n",
    "            if el == '/':\n",
    "                el += '/'\n",
    "            x, y = stack.pop(), stack.pop()\n",
    "            stack.push(eval(f'y {el} x'))\n",
    "    return stack.pop()\n",
    "\n",
    "\n",
    "def input_data() -> list:\n",
    "    return input().split()\n",
    "\n",
    "\n",
    "def main() -> None:\n",
    "    data = input_data()\n",
    "    res = calc(data)\n",
    "    print(res)\n",
    "\n",
    "\n",
    "def test():\n",
    "    res = calc(['2', '1', '+', '3', '*'])\n",
    "    assert res == 9\n",
    "\n",
    "\n",
    "if __name__ == '__main__':\n",
    "    # main()\n",
    "    test()"
   ],
   "metadata": {
    "collapsed": false
   }
  },
  {
   "cell_type": "markdown",
   "source": [
    "# Разное"
   ],
   "metadata": {
    "collapsed": false
   }
  },
  {
   "cell_type": "markdown",
   "source": [
    "## Декоратор"
   ],
   "metadata": {
    "collapsed": false
   }
  },
  {
   "cell_type": "code",
   "execution_count": null,
   "outputs": [],
   "source": [
    "def test_ex(f):\n",
    "    def wrapper(*args, **kwargs):\n",
    "        try:\n",
    "            return f(*args, **kwargs)\n",
    "        except IndexError:\n",
    "            print('error')\n",
    "    return wrapper"
   ],
   "metadata": {
    "collapsed": false
   }
  },
  {
   "cell_type": "markdown",
   "source": [
    "## Алгоритм умножения Karatsuba multiplication"
   ],
   "metadata": {
    "collapsed": false
   }
  },
  {
   "cell_type": "code",
   "execution_count": null,
   "outputs": [],
   "source": [
    "# https://www.nayuki.io/page/karatsuba-multiplication\n",
    "\n",
    "_CUTOFF = 1536\n",
    "\n",
    "\n",
    "def multiply(x, y):\n",
    "    if x.bit_length() <= _CUTOFF or y.bit_length() <= _CUTOFF:  # Base case\n",
    "        return x * y\n",
    "    else:\n",
    "        n = max(x.bit_length(), y.bit_length())\n",
    "        half = (n + 32) // 64 * 32\n",
    "        mask = (1 << half) - 1\n",
    "        xlow = x & mask\n",
    "        ylow = y & mask\n",
    "        xhigh = x >> half\n",
    "        yhigh = y >> half\n",
    "\n",
    "        a = multiply(xhigh, yhigh)\n",
    "        b = multiply(xlow + xhigh, ylow + yhigh)\n",
    "        c = multiply(xlow, ylow)\n",
    "        d = b - a - c\n",
    "        return (((a << half) + d) << half) + c"
   ],
   "metadata": {
    "collapsed": false
   }
  },
  {
   "cell_type": "markdown",
   "source": [
    "## getatr"
   ],
   "metadata": {
    "collapsed": false
   }
  },
  {
   "cell_type": "code",
   "execution_count": null,
   "outputs": [],
   "source": [
    "class Deq(list):\n",
    "    pass\n",
    "\n",
    "deq = Deq()\n",
    "commands = ['append 54', 'append 55', 'pop']\n",
    "for el in commands:\n",
    "    cmd, *val = el.split()\n",
    "    call = getattr(deq, cmd)\n",
    "    call(*val)\n",
    "print(deq)"
   ],
   "metadata": {
    "collapsed": false
   }
  },
  {
   "cell_type": "markdown",
   "source": [
    "# Рекурсия и сортировки"
   ],
   "metadata": {
    "collapsed": false
   }
  },
  {
   "cell_type": "markdown",
   "source": [
    "## A. Генератор скобок"
   ],
   "metadata": {
    "collapsed": false
   }
  },
  {
   "cell_type": "code",
   "execution_count": 93,
   "outputs": [
    {
     "name": "stdout",
     "output_type": "stream",
     "text": [
      "(())\n",
      "()()\n"
     ]
    }
   ],
   "source": [
    "class GenBracket:\n",
    "    def __init__(self, n=None):\n",
    "        self.__n: int = n or int(input())\n",
    "        self.__d = {')': '('}\n",
    "        self.__res: list = []\n",
    "\n",
    "    def __check(self, seq: str) -> bool:\n",
    "        if seq[0] == ')':\n",
    "            return False\n",
    "\n",
    "        stack = ['']\n",
    "        for i in seq:\n",
    "            if stack[-1] == self.__d.get(i):\n",
    "                stack.pop()\n",
    "            else:\n",
    "                stack.append(i)\n",
    "        return not stack.pop()\n",
    "\n",
    "    def __gen_binary(self, n, prefix) -> None:\n",
    "        if n == 0:\n",
    "            if self.__check(prefix):\n",
    "                return self.__res.append(prefix)\n",
    "        else:\n",
    "            self.__gen_binary(n - 1, prefix + '(')\n",
    "            self.__gen_binary(n - 1, prefix + ')')\n",
    "\n",
    "    def gen_bracket(self):\n",
    "        self.__gen_binary(self.__n << 1, '')\n",
    "        return self.__res\n",
    "\n",
    "def main():\n",
    "    a = GenBracket(2)\n",
    "    print(*a.gen_bracket(), sep='\\n')\n",
    "\n",
    "\n",
    "if __name__ == '__main__':\n",
    "    main()"
   ],
   "metadata": {
    "collapsed": false
   }
  },
  {
   "cell_type": "markdown",
   "source": [
    "## B. Комбинации"
   ],
   "metadata": {
    "collapsed": false
   }
  },
  {
   "cell_type": "code",
   "execution_count": 60,
   "outputs": [
    {
     "name": "stdout",
     "output_type": "stream",
     "text": [
      "\n"
     ]
    }
   ],
   "source": [
    "class Combination:\n",
    "    def __init__(self, n=None):\n",
    "        self.__digits: str = n or input()\n",
    "        self.__keys = {\n",
    "            '2':'abc',\n",
    "            '3':'def',\n",
    "            '4':'ghi',\n",
    "            '5':'jkl',\n",
    "            '6':'mno',\n",
    "            '7':'pqrs',\n",
    "            '8':'tuv',\n",
    "            '9':'wxyz'\n",
    "        }\n",
    "        self.__res = set()\n",
    "\n",
    "    def __gen_binary(self, n: int, prefix: str) -> None:\n",
    "        if n == 0:\n",
    "            return self.__res.add(prefix)\n",
    "        digit = self.__digits[n - 1]\n",
    "        for i in self.__keys[digit]:\n",
    "            self.__gen_binary(n - 1, i + prefix)\n",
    "\n",
    "    @property\n",
    "    def combinations(self) -> str:\n",
    "        self.__res = set()\n",
    "        self.__gen_binary(len(self.__digits), '')\n",
    "        return ' '.join(sorted(self.__res))\n",
    "\n",
    "\n",
    "def test():\n",
    "    obj = Combination('23')\n",
    "    assert obj.combinations == 'ad ae af bd be bf cd ce cf'\n",
    "    obj = Combination('92')\n",
    "    assert obj.combinations == 'wa wb wc xa xb xc ya yb yc za zb zc'\n",
    "\n",
    "\n",
    "if __name__ == '__main__':\n",
    "    a = Combination()\n",
    "    print(a.combinations)"
   ],
   "metadata": {
    "collapsed": false
   }
  },
  {
   "cell_type": "markdown",
   "source": [
    "## L. Два велосипеда"
   ],
   "metadata": {
    "collapsed": false
   }
  },
  {
   "cell_type": "code",
   "execution_count": 2,
   "outputs": [],
   "source": [
    "from typing import Tuple\n",
    "\n",
    "\n",
    "class Pig:\n",
    "    def __init__(self, n=None, arr=None, s=None):\n",
    "        self.__n = n or int(input())\n",
    "        self.__arr = arr or list(map(int, input().split()))\n",
    "        self.__s = s or int(input())\n",
    "\n",
    "    def binary_search(self, s: int, left: int, right: int) -> int:\n",
    "        if self.__arr[-1] < s:\n",
    "            return -1\n",
    "        if self.__arr[left] >= s:\n",
    "            return left + 1\n",
    "        # if right <= left:\n",
    "        #     return left + 1\n",
    "        mid = (left + right) // 2\n",
    "        if self.__arr[mid] < s:\n",
    "            return self.binary_search(s, mid + 1, right)\n",
    "        else:\n",
    "            return self.binary_search(s, left, mid)\n",
    "\n",
    "    @property\n",
    "    def one_two_bicycles(self) -> Tuple[int, int]:\n",
    "        one = self.binary_search(self.__s, 0, self.__n)\n",
    "        if one == -1:\n",
    "            return -1, -1\n",
    "        two = self.binary_search(self.__s << 1, one, self.__n)\n",
    "        return one, two\n",
    "\n",
    "\n",
    "def test():\n",
    "    pig = Pig(6, [1, 2, 4, 4, 6, 8], 3)\n",
    "    assert pig.one_two_bicycles == (3, 5)\n",
    "\n",
    "    pig = Pig(6, [1, 2, 4, 4, 4, 4], 3)\n",
    "    assert pig.one_two_bicycles == (3, -1)\n",
    "\n",
    "    pig = Pig(6, [1, 2, 4, 4, 4, 4], 10)\n",
    "    assert pig.one_two_bicycles == (-1, -1)\n",
    "\n",
    "    pig = Pig(6, [1, 2, 4, 4, 4, 4], 1)\n",
    "    assert pig.one_two_bicycles == (1, 2)\n",
    "\n",
    "\n",
    "def main() -> None:\n",
    "    pig = Pig()\n",
    "    print(*pig.one_two_bicycles)\n",
    "\n",
    "\n",
    "if __name__ == '__main__':\n",
    "    # main()\n",
    "    test()\n"
   ],
   "metadata": {
    "collapsed": false
   }
  },
  {
   "cell_type": "markdown",
   "source": [
    "## J. Пузырёк"
   ],
   "metadata": {
    "collapsed": false
   }
  },
  {
   "cell_type": "code",
   "execution_count": 121,
   "outputs": [
    {
     "name": "stdout",
     "output_type": "stream",
     "text": [
      "3 4 2 1 9\n",
      "3 2 1 4 9\n",
      "2 1 3 4 9\n",
      "1 2 3 4 9\n"
     ]
    }
   ],
   "source": [
    "from typing import Tuple, List\n",
    "\n",
    "\n",
    "def input_data()-> Tuple[int, List[int]]:\n",
    "    n = int(input())\n",
    "    arr = list(map(int, input().split()))\n",
    "    return n, arr\n",
    "\n",
    "def algorithm(n: int, arr: List[int]) -> List[List[int]]:\n",
    "    res = []\n",
    "    for i in range(n - 1):\n",
    "        flag = False\n",
    "        for j in range(n - 1):\n",
    "            if arr[j] > arr[j + 1]:\n",
    "                arr[j], arr[j + 1] = arr[j + 1], arr[j]\n",
    "                flag = True\n",
    "        if flag:\n",
    "            res.append(arr.copy())\n",
    "        else:\n",
    "            return res\n",
    "    return res\n",
    "\n",
    "\n",
    "def test():\n",
    "    res = algorithm(5, [12, 8, 9, 10, 11])\n",
    "    assert res == [[8, 9, 10, 11, 12]]\n",
    "\n",
    "\n",
    "def main() -> None:\n",
    "    n, arr = input_data()\n",
    "    res = algorithm(n, arr)\n",
    "    [print(*i) for i in res] if res else print(*arr)\n",
    "\n",
    "\n",
    "if __name__ == '__main__':\n",
    "    main()\n",
    "    # test()"
   ],
   "metadata": {
    "collapsed": false
   }
  },
  {
   "cell_type": "markdown",
   "source": [
    "## H. Большое число"
   ],
   "metadata": {
    "collapsed": false
   }
  },
  {
   "cell_type": "code",
   "execution_count": 29,
   "outputs": [],
   "source": [
    "from typing import Tuple, List\n",
    "\n",
    "\n",
    "def input_data() -> Tuple[int, List[str]]:\n",
    "    return int(input()), input().split()\n",
    "\n",
    "\n",
    "def less(obj_1: str, obj_2: str) -> bool:\n",
    "    if len(obj_1) == len(obj_2):\n",
    "        return obj_1 > obj_2\n",
    "    return obj_1 + obj_2 > obj_2 + obj_1\n",
    "\n",
    "\n",
    "def algorithm(n: int, arr: list) -> str:\n",
    "    for i in range(1, n):\n",
    "        item_to_insert = arr[i]\n",
    "        j = i\n",
    "        while j > 0 and less(item_to_insert, arr[j - 1]):\n",
    "            arr[j] = arr[j-1]\n",
    "            j -= 1\n",
    "        arr[j] = item_to_insert\n",
    "    return ''.join(arr)\n",
    "\n",
    "\n",
    "def main() -> None:\n",
    "    n, arr = input_data()\n",
    "    res = algorithm(n, arr)\n",
    "    print(''.join(res))\n",
    "\n",
    "\n",
    "def test():\n",
    "    assert algorithm(3, ['15', '56', '2']) == '56215'\n",
    "    assert algorithm(3, ['1', '783', '2']) == '78321'\n",
    "    assert algorithm(5, ['2', '4', '5', '2', '10']) == '542210'\n",
    "    assert algorithm(6, ['9', '10', '1', '1', '1', '6']) == '9611110'\n",
    "\n",
    "\n",
    "if __name__ == '__main__':\n",
    "    # main()\n",
    "    test()"
   ],
   "metadata": {
    "collapsed": false
   }
  },
  {
   "cell_type": "markdown",
   "source": [
    "## N. Клумбы"
   ],
   "metadata": {
    "collapsed": false
   }
  },
  {
   "cell_type": "code",
   "execution_count": 3,
   "outputs": [],
   "source": [
    "from typing import Tuple, List\n",
    "\n",
    "\n",
    "def input_data() -> Tuple[int, List[List[int]]]:\n",
    "    n = int(input())\n",
    "    arr = [list(map(int, input().split())) for _ in range(n)]\n",
    "    return n, arr\n",
    "\n",
    "\n",
    "def algorithm(n: int, arr: List[List[int]]) -> List[List[int]]:\n",
    "    arr = sorted(arr)\n",
    "    res = []\n",
    "    start = arr[0][0]\n",
    "    end = arr[0][1]\n",
    "    for i in range(1, n):\n",
    "        if end < arr[i][0]:\n",
    "            res.append([start, end])\n",
    "            start = arr[i][0]\n",
    "            end = arr[i][1]\n",
    "        elif end < arr[i][1]:\n",
    "            end = arr[i][1]\n",
    "    res.append([start, end])\n",
    "    return res\n",
    "\n",
    "\n",
    "def test():\n",
    "    res = algorithm(4, [[7, 8], [7, 8], [2, 3], [6, 10]])\n",
    "    assert res == [[2, 3], [6, 10]]\n",
    "    res = algorithm(4, [[2, 3], [5, 6], [3, 4], [3, 4]])\n",
    "    assert res == [[2, 4], [5, 6]]\n",
    "\n",
    "\n",
    "def main() -> None:\n",
    "    n, arr = input_data()\n",
    "    res = algorithm(n, arr)\n",
    "    for i in res:\n",
    "        print(*i)\n",
    "\n",
    "\n",
    "if __name__ == '__main__':\n",
    "    # main()\n",
    "    test()"
   ],
   "metadata": {
    "collapsed": false
   }
  },
  {
   "cell_type": "markdown",
   "source": [
    "## C. Подпоследовательность"
   ],
   "metadata": {
    "collapsed": false
   }
  },
  {
   "cell_type": "code",
   "execution_count": 2,
   "outputs": [],
   "source": [
    "def input_data():\n",
    "    return input(), input()\n",
    "\n",
    "\n",
    "def subsequence(s, t):\n",
    "    position = -1\n",
    "    for i in s:\n",
    "        position = t.find(i, position + 1)\n",
    "        if position == - 1:\n",
    "            return False\n",
    "    return True\n",
    "\n",
    "\n",
    "def test():\n",
    "    assert subsequence('abc', 'ahbgdcu') is True\n",
    "    assert subsequence('abcp', 'ahpc') is False\n",
    "    assert subsequence(\n",
    "        'ijha',\n",
    "        'hmrqvftefyixinahlzgbkidroxiptbbkjmtwpsujevkulgrjiwiwzyhngulrodiwyg'\n",
    "    ) is False\n",
    "\n",
    "\n",
    "def main():\n",
    "    print(subsequence(*input_data()))\n",
    "\n",
    "\n",
    "if __name__ == '__main__':\n",
    "    # main()\n",
    "    test()"
   ],
   "metadata": {
    "collapsed": false
   }
  },
  {
   "cell_type": "markdown",
   "source": [
    "## K. Сортировка слиянием"
   ],
   "metadata": {
    "collapsed": false
   }
  },
  {
   "cell_type": "code",
   "execution_count": 38,
   "outputs": [],
   "source": [
    "def merge(arr: list, lf: int, mid: int, rg: int) -> list:\n",
    "    res = []\n",
    "    left = lf\n",
    "    right = mid\n",
    "    while left < mid and right < rg:\n",
    "        if arr[left] <= arr[right]:\n",
    "            res.append(arr[left])\n",
    "            left += 1\n",
    "        else:\n",
    "            res.append(arr[right])\n",
    "            right += 1\n",
    "    res += arr[left:mid] + arr[right:rg]\n",
    "    arr[lf:rg] = res\n",
    "    return arr\n",
    "\n",
    "\n",
    "def merge_sort(arr: list, lf: int, rg: int) -> None:\n",
    "    if rg - lf == 1:\n",
    "        return\n",
    "    mid = (lf + rg) // 2\n",
    "    merge_sort(arr, lf, mid)\n",
    "    merge_sort(arr, mid, rg)\n",
    "    merge(arr, lf, mid, rg)\n",
    "\n",
    "\n",
    "def test():\n",
    "    a = [1, 4, 9, 2, 10, 11]\n",
    "    b = merge(a, 0, 3, 6)\n",
    "    expected = [1, 2, 4, 9, 10, 11]\n",
    "    assert b == expected\n",
    "    c = [1, 4, 2, 10, 1, 2]\n",
    "    merge_sort(c, 0, 6)\n",
    "    expected = [1, 1, 2, 2, 4, 10]\n",
    "    assert c == expected"
   ],
   "metadata": {
    "collapsed": false
   }
  },
  {
   "cell_type": "markdown",
   "source": [
    "## G. Гардероб"
   ],
   "metadata": {
    "collapsed": false
   }
  },
  {
   "cell_type": "code",
   "execution_count": 50,
   "outputs": [
    {
     "name": "stdout",
     "output_type": "stream",
     "text": [
      "0 0 0 1 1 2 2\n"
     ]
    }
   ],
   "source": [
    "class Checkroom:\n",
    "    def __init__(self, n=None, arr=None):\n",
    "        self.n = n or input()\n",
    "        self.arr = arr or input().split()\n",
    "\n",
    "    def __call__(self, *args, **kwargs):\n",
    "        pivot = '1'\n",
    "        left = []\n",
    "        center = []\n",
    "        right = []\n",
    "        for i in self.arr:\n",
    "            if i < pivot:\n",
    "                left.append(i)\n",
    "            elif i == pivot:\n",
    "                center.append(i)\n",
    "            else:\n",
    "                right.append(i)\n",
    "        return left + center + right\n",
    "\n",
    "\n",
    "def main():\n",
    "    # a = Checkroom()\n",
    "    # print(*a())\n",
    "\n",
    "    a = Checkroom(5, ['0', '2', '1', '2', '0', '0', '1'])\n",
    "    print(*a())\n",
    "\n",
    "if __name__ == '__main__':\n",
    "    main()"
   ],
   "metadata": {
    "collapsed": false
   }
  },
  {
   "cell_type": "markdown",
   "source": [
    "## D. Печеньки"
   ],
   "metadata": {
    "collapsed": false
   }
  },
  {
   "cell_type": "code",
   "execution_count": null,
   "outputs": [],
   "source": [
    "def happy_children(n: int, greed: list, m: int, cookies: list) -> int:\n",
    "    cnt = 0\n",
    "    ch_index = 0\n",
    "    cookies_index = 0\n",
    "    greed.sort()\n",
    "    cookies.sort()\n",
    "    while cookies_index < m and ch_index < n:\n",
    "        if cookies[cookies_index] >= greed[ch_index]:\n",
    "            cnt += 1\n",
    "            ch_index += 1\n",
    "        cookies_index += 1\n",
    "    return cnt\n",
    "\n",
    "\n",
    "def test():\n",
    "    assert happy_children(2, [1, 2], 3, [2, 1, 3]) == 2\n",
    "    assert happy_children(3, [2, 1, 3], 2, [1, 1]) == 1\n",
    "\n",
    "\n",
    "if __name__ == '__main__':\n",
    "    n = int(input())\n",
    "    greed_factor = list(map(int, input().split()))\n",
    "    m = int(input())\n",
    "    size_cookies = list(map(int, input().split()))\n",
    "    res = happy_children(n, greed_factor, m, size_cookies)\n",
    "    print(res)"
   ],
   "metadata": {
    "collapsed": false
   }
  },
  {
   "cell_type": "markdown",
   "source": [
    "## E. Покупка домов"
   ],
   "metadata": {
    "collapsed": false
   }
  },
  {
   "cell_type": "code",
   "execution_count": 1,
   "outputs": [
    {
     "ename": "ValueError",
     "evalue": "invalid literal for int() with base 10: 'e_buying_houses'",
     "output_type": "error",
     "traceback": [
      "\u001B[0;31m---------------------------------------------------------------------------\u001B[0m",
      "\u001B[0;31mValueError\u001B[0m                                Traceback (most recent call last)",
      "Cell \u001B[0;32mIn[1], line 10\u001B[0m\n\u001B[1;32m      7\u001B[0m     \u001B[38;5;28;01mreturn\u001B[39;00m cnt\n\u001B[1;32m      9\u001B[0m \u001B[38;5;28;01mif\u001B[39;00m \u001B[38;5;18m__name__\u001B[39m \u001B[38;5;241m==\u001B[39m \u001B[38;5;124m'\u001B[39m\u001B[38;5;124m__main__\u001B[39m\u001B[38;5;124m'\u001B[39m:\n\u001B[0;32m---> 10\u001B[0m     _, k \u001B[38;5;241m=\u001B[39m \u001B[38;5;28;43mlist\u001B[39;49m\u001B[43m(\u001B[49m\u001B[38;5;28;43mmap\u001B[39;49m\u001B[43m(\u001B[49m\u001B[38;5;28;43mint\u001B[39;49m\u001B[43m,\u001B[49m\u001B[43m \u001B[49m\u001B[38;5;28;43minput\u001B[39;49m\u001B[43m(\u001B[49m\u001B[43m)\u001B[49m\u001B[38;5;241;43m.\u001B[39;49m\u001B[43msplit\u001B[49m\u001B[43m(\u001B[49m\u001B[43m)\u001B[49m\u001B[43m)\u001B[49m\u001B[43m)\u001B[49m\n\u001B[1;32m     11\u001B[0m     arr \u001B[38;5;241m=\u001B[39m \u001B[38;5;28mlist\u001B[39m(\u001B[38;5;28mmap\u001B[39m(\u001B[38;5;28mint\u001B[39m, \u001B[38;5;28minput\u001B[39m()\u001B[38;5;241m.\u001B[39msplit()))\n\u001B[1;32m     12\u001B[0m     \u001B[38;5;28mprint\u001B[39m(count_house(arr, k))\n",
      "\u001B[0;31mValueError\u001B[0m: invalid literal for int() with base 10: 'e_buying_houses'"
     ]
    }
   ],
   "source": [
    "def count_house(arr: list, n: int, k: int) -> int:\n",
    "    cnt = 0\n",
    "    arr.sort()\n",
    "    while cnt < n and k >= arr[cnt]:\n",
    "        k -= arr[cnt]\n",
    "        cnt += 1\n",
    "    return cnt\n",
    "\n",
    "\n",
    "def test():\n",
    "    assert count_house([999, 999, 999], 3, 300) == 0\n",
    "    assert count_house([350, 999, 200], 3, 1000) == 2\n",
    "    assert count_house([3], 1, 4)\n",
    "\n",
    "\n",
    "if __name__ == '__main__':\n",
    "    n, k = list(map(int, input().split()))\n",
    "    arr = list(map(int, input().split()))\n",
    "    print(count_house(arr, n, k))"
   ],
   "metadata": {
    "collapsed": false
   }
  },
  {
   "cell_type": "markdown",
   "source": [
    "## F. Периметр треугольника"
   ],
   "metadata": {
    "collapsed": false
   }
  },
  {
   "cell_type": "code",
   "execution_count": 33,
   "outputs": [
    {
     "name": "stdout",
     "output_type": "stream",
     "text": [
      "8\n"
     ]
    }
   ],
   "source": [
    "# def algorithm(n: int, arr: list) -> int:\n",
    "#     while n >= 3:\n",
    "#         if arr[n - 1] < arr[n - 2] + arr[n - 3]:\n",
    "#             return sum(arr[n - 3: n])\n",
    "#         n -= 1\n",
    "#\n",
    "def algorithm(n: int, arr: list) -> int:\n",
    "    if arr[n - 1] < arr[n - 2] + arr[n - 3]:\n",
    "        return sum(arr[n - 3: n])\n",
    "    return algorithm(n - 1, arr)\n",
    "\n",
    "\n",
    "if __name__ == '__main__':\n",
    "    n = int(input())\n",
    "    arr = list(map(int, input().split()))\n",
    "    arr.sort()\n",
    "    print(algorithm(n, arr))"
   ],
   "metadata": {
    "collapsed": false
   }
  },
  {
   "cell_type": "markdown",
   "source": [
    "## I. Любители конференций"
   ],
   "metadata": {
    "collapsed": false
   }
  },
  {
   "cell_type": "code",
   "execution_count": 42,
   "outputs": [
    {
     "name": "stdout",
     "output_type": "stream",
     "text": [
      "1 2 3\n"
     ]
    }
   ],
   "source": [
    "def algorithm(arr: list, k: int) -> list:\n",
    "    d = {}\n",
    "    for i in arr:\n",
    "        d[i] = d.get(i, 0) + 1\n",
    "    res = sorted(d.items(), key=lambda x: (x[1], -x[0]), reverse=True)[:k]\n",
    "    return [i[0] for i in res]\n",
    "\n",
    "\n",
    "if __name__ == '__main__':\n",
    "    _ = int(input())\n",
    "    arr = list(map(int, input().split()))\n",
    "    k = int(input())\n",
    "    print(*algorithm(arr, k))"
   ],
   "metadata": {
    "collapsed": false
   }
  },
  {
   "cell_type": "markdown",
   "source": [
    "## O. Разность треш-индексов"
   ],
   "metadata": {
    "collapsed": false
   }
  },
  {
   "cell_type": "code",
   "execution_count": 9,
   "outputs": [
    {
     "name": "stdout",
     "output_type": "stream",
     "text": [
      "0\n",
      "CPU times: user 7min 13s, sys: 82.9 ms, total: 7min 13s\n",
      "Wall time: 7min 15s\n"
     ]
    }
   ],
   "source": [
    "LOCAL = True\n",
    "\n",
    "\n",
    "# def algorithm(n: int, arr: list, k: int, res=None) -> int:\n",
    "#     res = res or []\n",
    "#     if n <= 0:\n",
    "#         res.sort()\n",
    "#         print(res)\n",
    "#         return res[k - 1]\n",
    "#     for i in range(n - 1):\n",
    "#         res.append(abs(arr[n - 1] - arr[i]))\n",
    "#     return algorithm(n - 1, arr, k,res)\n",
    "#\n",
    "# def algorithm(n: int, arr: list, k: int, index = 0, max_el = float('inf'), res=None) -> int:\n",
    "#     res = res or [float('inf')] * k\n",
    "#     if n <= 0:\n",
    "#         return max_el\n",
    "#     # for i in range(n - 1):\n",
    "#     #     r = abs(arr[n - 1] - arr[i])\n",
    "#     num = arr.pop()\n",
    "#     for i in arr:\n",
    "#         r = abs(num - i)\n",
    "#         if r <= max_el:\n",
    "#             res[index] = r\n",
    "#             max_el = max(res)\n",
    "#             # res[-1] = (res[-1] + 1) % k\n",
    "#             index = res.index(max_el)\n",
    "#     return algorithm(n - 1, arr, k, index, max_el, res)\n",
    "\n",
    "\n",
    "# def algorithm(n: int, arr: list, k: int, max_el = float('inf'), res=None) -> int:\n",
    "#     res = res or [float('inf')] * k\n",
    "#     index = 0\n",
    "#     arr = set(arr)\n",
    "#     while arr:\n",
    "#         num = arr.pop()\n",
    "#         for i in arr:\n",
    "#             r = abs(num - i)\n",
    "#             if r <= max_el:\n",
    "#                 res[index] = r\n",
    "#                 max_el = max(res)\n",
    "#                 index = res.index(max_el)\n",
    "#     return max_el\n",
    "\n",
    "# def algorithm(n: int, arr: list, k: int, d=None) -> int:\n",
    "#     d = d or {}\n",
    "#     if n <= 0:\n",
    "#         b = (i for i in sorted(d))\n",
    "#         while k>0:\n",
    "#             j = next(b)\n",
    "#             k -= d[j]\n",
    "#         return j\n",
    "#     num = arr.pop()\n",
    "#     for i in arr:\n",
    "#         r = abs(num - i)\n",
    "#         d[r] = d.get(r, 0) + 1\n",
    "#     return algorithm(n-1, arr, k, d)\n",
    "\n",
    "\n",
    "def algorithm(n: int, arr: list, k: int, d=None) -> int:\n",
    "    d = {}\n",
    "    arr.sort()\n",
    "    while n > 0:\n",
    "        num = arr.pop()\n",
    "        for i in arr:\n",
    "            r = num - i\n",
    "            d[r] = d.get(r, 0) + 1\n",
    "        n -= 1\n",
    "\n",
    "    b = (i for i in sorted(d))\n",
    "    while k > 0:\n",
    "        j = next(b)\n",
    "        k -= d[j]\n",
    "    return j\n",
    "\n",
    "# def algorithm(n: int, arr: list, k: int, d=None, left=0, right=0, num=None) -> int:\n",
    "#     d = d or {}\n",
    "#     left = left or 0\n",
    "#     right = right or n - 1\n",
    "#\n",
    "#     if right - left <= 1:\n",
    "#         r = arr[right] - arr[left]\n",
    "#         d[r] = d.get(r, 0) + 1\n",
    "#\n",
    "#         print(left, right)\n",
    "#\n",
    "#         # b = (i for i in sorted(d))\n",
    "#         # while k>0:\n",
    "#         #     j = next(b)\n",
    "#         #     k -= d[j]\n",
    "#         print(d)\n",
    "#         return d\n",
    "#     mid = (left + right) // 2\n",
    "#     algorithm(n-1, arr, k, d, left, mid)\n",
    "#     algorithm(n-1, arr, k, d, mid, right)\n",
    "#     return d\n",
    "\n",
    "\n",
    "def test():\n",
    "    # print(algorithm(3, [2, 3, 4], 2)) # 1\n",
    "    # print(algorithm(3, [1, 3, 1], 1)) # 0\n",
    "    # print(algorithm(3, [1, 3, 5], 3)) # 4\n",
    "    # print(algorithm(4, [9, 6, 10, 3], 3)) # 3\n",
    "    # print(algorithm(8, [9, 1, 10, 3, 4, 6, 2, 7], 6)) # 2\n",
    "\n",
    "    # print(algorithm(3, ['1', '3', '5'], 3)) # 4\n",
    "    # print(algorithm(4, ['9', '6', '10', '3'], 3)) # 3\n",
    "    import random\n",
    "    arr = [random.randint(500000, 1000000) for _ in range(50000)]\n",
    "    print(algorithm(50000, arr, 1000))\n",
    "\n",
    "if __name__ == '__main__':\n",
    "    if LOCAL:\n",
    "        %time test()\n",
    "    else:\n",
    "        n = int(input())\n",
    "        # arr = list(map(int, input().split()))\n",
    "        arr = input().split()\n",
    "        k = int(input())\n",
    "        print(algorithm(n, arr, k))"
   ],
   "metadata": {
    "collapsed": false,
    "pycharm": {
     "is_executing": true
    },
    "ExecuteTime": {
     "end_time": "2023-05-14T09:42:59.909663715Z",
     "start_time": "2023-05-14T09:35:44.696108219Z"
    }
   }
  },
  {
   "cell_type": "markdown",
   "source": [
    "## M. Золотая середина"
   ],
   "metadata": {
    "collapsed": false
   }
  },
  {
   "cell_type": "code",
   "execution_count": 3,
   "outputs": [
    {
     "name": "stdout",
     "output_type": "stream",
     "text": [
      "[1, 2]\n",
      "2\n"
     ]
    }
   ],
   "source": [
    "def main(n, m, north, south):\n",
    "    lf = 0\n",
    "    rh = 0\n",
    "    length = n + m\n",
    "    mid = length // 2 + 1\n",
    "\n",
    "    def median():\n",
    "        nonlocal lf, rh, mid\n",
    "        for i in range(2, mid + 2):\n",
    "            if lf < n and rh < m:\n",
    "                if north[lf] < south[rh]:\n",
    "                    if i >= mid:\n",
    "                        yield north[lf]\n",
    "                    lf += 1\n",
    "\n",
    "                else:\n",
    "                    if i >= mid:\n",
    "                        yield south[rh]\n",
    "                    rh += 1\n",
    "\n",
    "            elif lf < n:\n",
    "                if i >= mid:\n",
    "                    yield north[lf]\n",
    "                lf += 1\n",
    "\n",
    "            else:\n",
    "                if i >= mid:\n",
    "                    yield south[rh]\n",
    "                rh += 1\n",
    "\n",
    "    arr = list(median())\n",
    "    return arr[-1] if length & 1 else (sum(arr)) / 2\n",
    "\n",
    "\n",
    "if __name__ == '__main__':\n",
    "    n, m = [int(input()) for _ in range(2)]\n",
    "    north, south = [list(map(int, input().split())) for _ in range(2)]\n",
    "    print(main(n, m, north, south))\n"
   ],
   "metadata": {
    "collapsed": false,
    "ExecuteTime": {
     "end_time": "2023-05-15T10:41:14.727876608Z",
     "start_time": "2023-05-15T10:41:03.479921395Z"
    }
   }
  },
  {
   "cell_type": "markdown",
   "source": [
    "# Финальные задачи (13 спринт)"
   ],
   "metadata": {
    "collapsed": false
   }
  },
  {
   "cell_type": "markdown",
   "source": [
    "## A. Поиск в сломанном массиве"
   ],
   "metadata": {
    "collapsed": false
   }
  },
  {
   "cell_type": "code",
   "execution_count": 1,
   "outputs": [],
   "source": [
    "from typing import List\n",
    "\n",
    "\n",
    "def broken_search(nums: List[int], target: int, *args) -> int:\n",
    "    left, right = args or (0, len(nums) - 1)\n",
    "\n",
    "    if right < left:\n",
    "        return -1\n",
    "    mid = (left + right) // 2\n",
    "    if nums[mid] == target:\n",
    "        return mid\n",
    "\n",
    "    if nums[left] <= nums[mid]:\n",
    "        if nums[left] <= target < nums[mid]:\n",
    "            return broken_search(nums, target, left, mid)\n",
    "        return broken_search(nums, target, mid + 1, right)\n",
    "\n",
    "    if nums[mid] < target <= nums[right]:\n",
    "        return broken_search(nums, target, mid + 1, right)\n",
    "    return broken_search(nums, target, left, mid)\n",
    "\n",
    "\n",
    "\n",
    "def test():\n",
    "    arr = [19, 21, 100, 101, 1, 4, 5, 7, 12]\n",
    "    assert broken_search(arr, 5) == 6\n",
    "    arr = [100, 101, 1, 4, 5, 7, 12, 19, 21]\n",
    "    assert broken_search(arr, 5) == 4\n",
    "    arr = [5, 1]\n",
    "    assert broken_search(arr, 1) == 1\n",
    "    arr = [5, 1]\n",
    "    assert broken_search(arr, 6) == -1\n",
    "    arr = [3, 5, 6, 7, 9, 1, 2]\n",
    "    assert broken_search(arr, 4) == -1\n",
    "    arr = [1]\n",
    "    assert broken_search(arr, 1) == 0\n",
    "    arr = [1, 2, 3, 5, 6, 7, 9, 0]\n",
    "    assert broken_search(arr, 3) == 2\n",
    "    arr = [3271, 3298, 3331, 3397, 3407, 3524, 3584, 3632, 3734, 3797, 3942, 4000, 4180, 4437, 4464, 4481, 4525, 4608, 4645, 4803, 4804, 4884, 4931, 4965, 5017, 5391, 5453, 5472, 5671, 5681, 5959, 6045, 6058, 6301, 6529, 6621, 6961, 7219, 7291, 7372, 7425, 7517, 7600, 7731, 7827, 7844, 7987, 8158, 8169, 8265, 8353, 8519, 8551, 8588, 8635, 9209, 9301, 9308, 9336, 9375, 9422, 9586, 9620, 9752, 9776, 9845, 9906, 9918, 16, 25, 45, 152, 199, 309, 423, 614, 644, 678, 681, 725, 825, 830, 936, 1110, 1333, 1413, 1617, 1895, 1938, 2107, 2144, 2184, 2490, 2517, 2769, 2897, 2970, 3023, 3112, 3156]\n",
    "    assert broken_search(arr, 25) == 69\n"
   ],
   "metadata": {
    "collapsed": false
   }
  },
  {
   "cell_type": "markdown",
   "source": [
    "## B. Эффективная быстрая сортировка"
   ],
   "metadata": {
    "collapsed": false
   }
  },
  {
   "cell_type": "code",
   "execution_count": null,
   "outputs": [],
   "source": [
    "from typing import Tuple\n",
    "\n",
    "\n",
    "class Member:\n",
    "    def __init__(self, login: str, task: str, fine: str):\n",
    "        self.login: str = login\n",
    "        self.task: int = int(task)\n",
    "        self.fine: int = int(fine)\n",
    "\n",
    "    def __lt__(self, other):\n",
    "        self_obj = (- self.task, self.fine, self.login)\n",
    "        other_obj = (- other.task, other.fine, other.login)\n",
    "        return self_obj < other_obj\n",
    "\n",
    "    def __gt__(self, other):\n",
    "        return other.__lt__(self)\n",
    "\n",
    "    def __str__(self):\n",
    "        return self.login\n",
    "\n",
    "\n",
    "def partition(arr: list, low: int, high: int) -> Tuple[int, int]:\n",
    "    pivot = arr[(low + high) // 2]\n",
    "    while low <= high:\n",
    "        while arr[low] < pivot:\n",
    "            low += 1\n",
    "        while arr[high] > pivot:\n",
    "            high -= 1\n",
    "        if low <= high:\n",
    "            arr[low], arr[high] = arr[high], arr[low]\n",
    "            low += 1\n",
    "            high -= 1\n",
    "    return low, high\n",
    "\n",
    "\n",
    "def quicksort(arr: list, low: int, high: int) -> None:\n",
    "    if high <= low:\n",
    "        return\n",
    "    else:\n",
    "        left, right = partition(arr, low, high)\n",
    "        quicksort(arr, low, right)\n",
    "        quicksort(arr, left, high)\n",
    "\n",
    "\n",
    "if __name__ == '__main__':\n",
    "    length = int(input())\n",
    "    array = [Member(*input().split()) for _ in range(length)]\n",
    "    quicksort(array, 0, length - 1)\n",
    "    print(*array, sep='\\n')"
   ],
   "metadata": {
    "collapsed": false
   }
  },
  {
   "cell_type": "markdown",
   "source": [
    "# Хеш-функции"
   ],
   "metadata": {
    "collapsed": false
   }
  },
  {
   "cell_type": "markdown",
   "source": [
    "## A. Полиномиальный хеш"
   ],
   "metadata": {
    "collapsed": false
   }
  },
  {
   "cell_type": "code",
   "execution_count": 96,
   "outputs": [],
   "source": [
    "LOCAL = True\n",
    "\n",
    "def poli_hash(q: int, r: int, s: str) -> int:\n",
    "    res = 0\n",
    "    for i in range(len(s)):\n",
    "        res = (res * q + ord(s[i])) % r\n",
    "    return res\n",
    "\n",
    "def test():\n",
    "    assert poli_hash(123, 100003, 'a') == 97\n",
    "    assert poli_hash(123, 100003, 'hash') == 6080\n",
    "    assert poli_hash(123, 100003, 'HaSH') == 56156\n",
    "\n",
    "if __name__ =='__main__':\n",
    "    if LOCAL:\n",
    "        test()\n",
    "    else:\n",
    "        q = int(input()) # основание\n",
    "        r = int(input()) # модуль\n",
    "        s = input()\n",
    "        print(poli_hash(q ,r, s))\n"
   ],
   "metadata": {
    "collapsed": false,
    "ExecuteTime": {
     "end_time": "2023-05-16T14:32:35.766727357Z",
     "start_time": "2023-05-16T14:32:35.666730182Z"
    }
   }
  },
  {
   "cell_type": "markdown",
   "source": [
    "## B. Сломай меня"
   ],
   "metadata": {
    "collapsed": false
   }
  },
  {
   "cell_type": "code",
   "execution_count": 99,
   "outputs": [
    {
     "name": "stdout",
     "output_type": "stream",
     "text": [
      "mhfuyjkczvwkznhhzmkw\n",
      "kioewavizufhwwrjhdpw\n"
     ]
    }
   ],
   "source": [
    "import random\n",
    "from string import ascii_lowercase\n",
    "base = 1000\n",
    "module = 123987123\n",
    "\n",
    "if __name__ == '__main__':\n",
    "    res = {}\n",
    "    while True:\n",
    "        word = ''.join(random.choice(ascii_lowercase) for _ in range(20))\n",
    "        hash_val = poli_hash(base, module, word)\n",
    "        if not res.get(hash_val):\n",
    "            res[hash_val] = word\n",
    "        else:\n",
    "            print(word, res[hash_val], sep='\\n')\n",
    "            break"
   ],
   "metadata": {
    "collapsed": false,
    "ExecuteTime": {
     "end_time": "2023-05-16T14:43:41.977484914Z",
     "start_time": "2023-05-16T14:43:41.676883466Z"
    }
   }
  },
  {
   "cell_type": "markdown",
   "source": [
    "# Деревья"
   ],
   "metadata": {
    "collapsed": false
   }
  },
  {
   "cell_type": "markdown",
   "source": [
    "## A. Лампочки"
   ],
   "metadata": {
    "collapsed": false
   }
  },
  {
   "cell_type": "code",
   "execution_count": 26,
   "outputs": [],
   "source": [
    "LOCAL = True\n",
    "\n",
    "if LOCAL:\n",
    "    class Node:\n",
    "        def __init__(self, value, left=None, right=None):\n",
    "            self.value = value\n",
    "            self.right = right\n",
    "            self.left = left\n",
    "\n",
    "\n",
    "def solution(root, max_l=None) -> int:\n",
    "    if not root:\n",
    "        return max_l or 0\n",
    "    max_l = max_l or root.value\n",
    "    if root.value > max_l:\n",
    "        max_l = root.value\n",
    "    return max(solution(root.left, max_l), solution(root.right, max_l))\n",
    "\n",
    "\n",
    "def test():\n",
    "    node1 = Node(1)\n",
    "    node2 = Node(-5)\n",
    "    node3 = Node(3, node1, node2)\n",
    "    node4 = Node(2, node3, None)\n",
    "    assert solution(node4) == 3\n",
    "\n",
    "\n",
    "if __name__ == '__main__':\n",
    "    test()"
   ],
   "metadata": {
    "collapsed": false,
    "ExecuteTime": {
     "end_time": "2023-05-16T10:02:10.398322077Z",
     "start_time": "2023-05-16T10:02:10.296437432Z"
    }
   }
  },
  {
   "cell_type": "markdown",
   "source": [
    "## E. Дерево поиска"
   ],
   "metadata": {
    "collapsed": false
   }
  },
  {
   "cell_type": "code",
   "execution_count": 46,
   "outputs": [],
   "source": [
    "LOCAL = True\n",
    "\n",
    "if LOCAL:\n",
    "    class Node:\n",
    "        def __init__(self, value, left=None, right=None):\n",
    "            self.value = value\n",
    "            self.right = right\n",
    "            self.left = left\n",
    "\n",
    "\n",
    "def solution(root) -> bool:\n",
    "    key = root\n",
    "    flag = True\n",
    "\n",
    "    def less(self, other):\n",
    "        if not self or not other:\n",
    "            return False\n",
    "        return self.value <= other.value\n",
    "\n",
    "    def check(root, left=None):\n",
    "        nonlocal flag, key\n",
    "        if not root:\n",
    "            return\n",
    "        if less(root, root.left) \\\n",
    "                or less(root.right, root) \\\n",
    "                or left and less(key, root.right):\n",
    "            flag = False\n",
    "        check(root.left, True)\n",
    "        check(root.right, False)\n",
    "    check(root)\n",
    "    return flag\n",
    "\n",
    "\n",
    "def test():\n",
    "    node1 = Node(1, None, None)\n",
    "    node2 = Node(4, None, None)\n",
    "    node3 = Node(3, node1, node2)\n",
    "    node4 = Node(8, None, None)\n",
    "    node5 = Node(5, node3, node4)\n",
    "\n",
    "    assert solution(node5)\n",
    "    node2.value = 5\n",
    "    assert not solution(node5)\n",
    "    node3.value = 6\n",
    "    assert not solution(node5)\n",
    "\n",
    "\n",
    "if __name__ == '__main__':\n",
    "    test()"
   ],
   "metadata": {
    "collapsed": false,
    "ExecuteTime": {
     "end_time": "2023-05-17T12:05:10.605031965Z",
     "start_time": "2023-05-17T12:05:10.522407890Z"
    }
   }
  },
  {
   "cell_type": "code",
   "execution_count": null,
   "outputs": [],
   "source": [],
   "metadata": {
    "collapsed": false
   }
  }
 ],
 "metadata": {
  "kernelspec": {
   "display_name": "Python 3",
   "language": "python",
   "name": "python3"
  },
  "language_info": {
   "codemirror_mode": {
    "name": "ipython",
    "version": 2
   },
   "file_extension": ".py",
   "mimetype": "text/x-python",
   "name": "python",
   "nbconvert_exporter": "python",
   "pygments_lexer": "ipython2",
   "version": "2.7.6"
  }
 },
 "nbformat": 4,
 "nbformat_minor": 0
}
