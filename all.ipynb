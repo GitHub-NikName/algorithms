{
 "cells": [
  {
   "cell_type": "markdown",
   "source": [
    "# Задачи. Основные структуры данных"
   ],
   "metadata": {
    "collapsed": false
   }
  },
  {
   "cell_type": "markdown",
   "source": [
    "### F. Стек - Max"
   ],
   "metadata": {
    "collapsed": false
   }
  },
  {
   "cell_type": "code",
   "execution_count": 22,
   "outputs": [],
   "source": [
    "from typing import Optional, Union\n",
    "\n",
    "\n",
    "class StackMax:\n",
    "    def __init__(self):\n",
    "        self.items = []\n",
    "\n",
    "    def push(self, item: str) -> None:\n",
    "        self.items.append(int(item))\n",
    "\n",
    "    def pop(self) -> None:\n",
    "        if not len(self.items):\n",
    "            raise IndexError('error')\n",
    "        self.items.pop()\n",
    "\n",
    "    def get_max(self) -> int:\n",
    "        if not len(self.items):\n",
    "            raise IndexError('None')\n",
    "        return max(self.items)\n",
    "\n",
    "\n",
    "def input_data() -> list:\n",
    "    n = int(input())\n",
    "    data = [input() for _ in range(n)]\n",
    "    return data\n",
    "\n",
    "\n",
    "def make_magik(stack: StackMax, el: str) -> Optional[Union[int, str]]:\n",
    "    command, *value = el.split()\n",
    "    call = getattr(stack, command)\n",
    "    try:\n",
    "        return call(*value)\n",
    "    except IndexError as e:\n",
    "        return e.args[0]\n",
    "\n",
    "\n",
    "def algorithm(data: list) -> list:\n",
    "    stack = StackMax()\n",
    "    result = []\n",
    "    for el in data:\n",
    "        res = make_magik(stack, el)\n",
    "        if res is not None:\n",
    "            result.append(res)\n",
    "    return result\n",
    "\n",
    "\n",
    "def main() -> None:\n",
    "    data = input_data()\n",
    "    res = algorithm(data)\n",
    "    print(*res, sep='\\n')\n",
    "\n",
    "\n",
    "def test():\n",
    "    res = algorithm(['get_max', 'push 7', 'pop', 'push -2', 'push -1', 'pop',\n",
    "                     'get_max', 'get_max'])\n",
    "    assert res == ['None', -2, -2]\n",
    "\n",
    "\n",
    "if __name__ == '__main__':\n",
    "    main()"
   ],
   "metadata": {
    "collapsed": false
   }
  },
  {
   "cell_type": "markdown",
   "source": [
    "### G. Стек - MaxEffective"
   ],
   "metadata": {
    "collapsed": false
   }
  },
  {
   "cell_type": "code",
   "execution_count": 29,
   "outputs": [],
   "source": [
    "from typing import Optional, Union\n",
    "\n",
    "\n",
    "class StackMaxEffective:\n",
    "    def __init__(self):\n",
    "        self.__items: list = []\n",
    "        self.__max_items: list = [float('-inf')]\n",
    "\n",
    "    def push(self, item: str) -> None:\n",
    "        item = int(item)\n",
    "        self.__items.append(item)\n",
    "        if item >= self.__max_items[-1]:\n",
    "            self.__max_items.append(item)\n",
    "\n",
    "    def pop(self) -> None:\n",
    "        if self.__is_empty():\n",
    "            raise IndexError('error')\n",
    "        item = self.__items.pop()\n",
    "        if item == self.__max_items[-1]:\n",
    "            self.__max_items.pop()\n",
    "\n",
    "    def get_max(self) -> int:\n",
    "        if self.__is_empty():\n",
    "            raise IndexError('None')\n",
    "        return self.__max_items[-1]\n",
    "\n",
    "    def __is_empty(self) -> bool:\n",
    "        return not self.__items\n",
    "\n",
    "\n",
    "def input_data() -> list:\n",
    "    n = int(input())\n",
    "    return [input() for _ in range(n)]\n",
    "\n",
    "\n",
    "def make_magik(stack: StackMaxEffective, el: str) -> Optional[Union[int, str]]:\n",
    "    command, *value = el.split()\n",
    "    call = getattr(stack, command)\n",
    "    try:\n",
    "        return call(*value)\n",
    "    except IndexError as e:\n",
    "        return e.args[0]\n",
    "\n",
    "\n",
    "def algorithm(data: list) -> list:\n",
    "    stack = StackMaxEffective()\n",
    "    result = []\n",
    "    for el in data:\n",
    "        res = make_magik(stack, el)\n",
    "        if res is not None:\n",
    "            result.append(res)\n",
    "    return result\n",
    "\n",
    "\n",
    "def main() -> None:\n",
    "    data = input_data()\n",
    "    res = algorithm(data)\n",
    "    print(*res, sep='\\n')\n",
    "\n",
    "\n",
    "def test():\n",
    "    res = algorithm(['pop', 'pop', 'push 4', 'push -5', 'push 7', 'pop', 'pop',\n",
    "                     'get_max', 'pop', 'get_max'])\n",
    "    assert res == ['error', 'error', 4, 'None']\n",
    "\n",
    "\n",
    "if __name__ == '__main__':\n",
    "    main()"
   ],
   "metadata": {
    "collapsed": false
   }
  },
  {
   "cell_type": "markdown",
   "source": [
    "### H. Скобочная последовательность"
   ],
   "metadata": {
    "collapsed": false
   }
  },
  {
   "cell_type": "code",
   "execution_count": 21,
   "outputs": [
    {
     "name": "stdout",
     "output_type": "stream",
     "text": [
      "True\n",
      "True\n",
      "True\n",
      "False\n"
     ]
    }
   ],
   "source": [
    "class BracketStack:\n",
    "    def __init__(self):\n",
    "        self.__items: list = ['']\n",
    "\n",
    "    def push(self, item: str) -> None:\n",
    "        self.__items.append(item)\n",
    "\n",
    "    def pop(self) -> str:\n",
    "        return self.__items.pop()\n",
    "\n",
    "    @property\n",
    "    def top(self) -> str:\n",
    "        return self.__items[-1]\n",
    "\n",
    "\n",
    "def input_data() -> str:\n",
    "    return input()\n",
    "\n",
    "\n",
    "def is_correct_bracket_seq(seq: str) -> bool:\n",
    "    if not seq:\n",
    "        return True\n",
    "    stack = BracketStack()\n",
    "    d = {')': '(', ']': '[', '}': '{'}\n",
    "    for item in seq:\n",
    "        if stack.top == d.get(item):\n",
    "            stack.pop()\n",
    "        else:\n",
    "            stack.push(item)\n",
    "    return not stack.pop()\n",
    "\n",
    "def main() -> None:\n",
    "    seq = input_data()\n",
    "    res = is_correct_bracket_seq(seq)\n",
    "    print(res)\n",
    "\n",
    "\n",
    "def test():\n",
    "    seq = ['', '{[()]}', '()', '({[]}']\n",
    "    for i in seq:\n",
    "        print(is_correct_bracket_seq(i))\n",
    "\n",
    "\n",
    "if __name__ == '__main__':\n",
    "    # main()\n",
    "    test()"
   ],
   "metadata": {
    "collapsed": false
   }
  },
  {
   "cell_type": "markdown",
   "source": [
    "## I. Ограниченная очередь"
   ],
   "metadata": {
    "collapsed": false
   }
  },
  {
   "cell_type": "code",
   "execution_count": 28,
   "outputs": [],
   "source": [
    "# I. Ограниченная очередь\n",
    "from typing import Tuple, Optional, Union\n",
    "\n",
    "\n",
    "class MyQueueSized:\n",
    "    def __init__(self, n):\n",
    "        self.__queue: list = [None] * n\n",
    "        self.__max_size: int = n\n",
    "        self.__head: int = 0\n",
    "        self.__tail: int = 0\n",
    "        self.__size: int = 0\n",
    "\n",
    "    def push(self, x: str) -> None:\n",
    "        if self.__size == self.__max_size:\n",
    "            raise IndexError('error')\n",
    "        self.__queue[self.__tail] = int(x)\n",
    "        self.__tail = self.__get_index(self.__tail)\n",
    "        self.__size += 1\n",
    "\n",
    "    def pop(self) -> int:\n",
    "        if self.__size == 0:\n",
    "            raise IndexError('None')\n",
    "        x = self.__queue[self.__head]\n",
    "        self.__queue[self.__head] = None\n",
    "        self.__head = self.__get_index(self.__head)\n",
    "        self.__size -= 1\n",
    "        return x\n",
    "\n",
    "    def peek(self) -> int:\n",
    "        if self.__size == 0:\n",
    "            raise IndexError('None')\n",
    "        return self.__queue[self.__head]\n",
    "\n",
    "    def size(self) -> int:\n",
    "        return self.__size\n",
    "\n",
    "    def __get_index(self, index: int) -> int:\n",
    "        return (index + 1) % self.__max_size\n",
    "\n",
    "\n",
    "def input_data() -> Tuple[int, list]:\n",
    "    n = int(input())\n",
    "    max_size = int(input())\n",
    "    data = [input() for _ in range(n)]\n",
    "    return max_size, data\n",
    "\n",
    "\n",
    "def make_magik(queue: MyQueueSized, el: str) -> Optional[Union[str, int]]:\n",
    "    cmd, *val = el.split()\n",
    "    call = getattr(queue, cmd)\n",
    "    try:\n",
    "        return call(*val)\n",
    "    except IndexError as e:\n",
    "        return e.args[0]\n",
    "\n",
    "\n",
    "def algorithm(max_size: int, data: list) -> list:\n",
    "    queue = MyQueueSized(max_size)\n",
    "    result = []\n",
    "    for el in data:\n",
    "        res = make_magik(queue, el)\n",
    "        if res is not None:\n",
    "            result.append(res)\n",
    "    return result\n",
    "\n",
    "\n",
    "def main() -> None:\n",
    "    max_size, data = input_data()\n",
    "    res = algorithm(max_size, data)\n",
    "    print(*res, sep='\\n')\n",
    "\n",
    "\n",
    "def test():\n",
    "    res = algorithm(2, ['peek', 'push 5', 'push 2', 'peek', 'size', 'size',\n",
    "                        'push 1', 'size'])\n",
    "    assert res == ['None', 5, 2, 2, 'error', 2]\n",
    "\n",
    "\n",
    "if __name__ == '__main__':\n",
    "    # main()\n",
    "    test()"
   ],
   "metadata": {
    "collapsed": false
   }
  },
  {
   "cell_type": "markdown",
   "source": [
    "## J. Списочная очередь"
   ],
   "metadata": {
    "collapsed": false
   }
  },
  {
   "cell_type": "code",
   "execution_count": 30,
   "outputs": [],
   "source": [
    "# J. Списочная очередь\n",
    "\n",
    "from typing import Optional\n",
    "\n",
    "\n",
    "class Node:\n",
    "    def __init__(self, value: int, next_item=None):\n",
    "        self.value: int = value\n",
    "        self.next_item: Node = next_item\n",
    "\n",
    "\n",
    "class Queue:\n",
    "    def __init__(self):\n",
    "        self.__size: int = 0\n",
    "        self.__head: Optional[Node] = None\n",
    "        self.__tail: Optional[Node] = None\n",
    "\n",
    "    def get(self) -> int:\n",
    "        if self.__size == 0:\n",
    "            raise IndexError\n",
    "        x = self.__head.value\n",
    "        self.__head = self.__head.next_item\n",
    "        self.__size -= 1\n",
    "        return x\n",
    "\n",
    "    def put(self, value: str) -> None:\n",
    "        value = int(value)\n",
    "        if self.__size == 0:\n",
    "            self.__head = Node(value)\n",
    "            self.__tail = self.__head\n",
    "        else:\n",
    "            self.__tail.next_item = Node(value)\n",
    "            self.__tail = self.__tail.next_item\n",
    "        self.__size += 1\n",
    "\n",
    "    def size(self) -> int:\n",
    "        return self.__size\n",
    "\n",
    "\n",
    "def input_data() -> list:\n",
    "    n = int(input())\n",
    "    return [input() for _ in range(n)]\n",
    "\n",
    "\n",
    "def que_proc(commands: list) -> list:\n",
    "    que = Queue()\n",
    "    result = []\n",
    "    for el in commands:\n",
    "        cmd, *val = el.split()\n",
    "        call = getattr(que, cmd)\n",
    "        try:\n",
    "            res = call(*val)\n",
    "            if res is not None:\n",
    "                result.append(res)\n",
    "        except IndexError:\n",
    "            result.append('error')\n",
    "    return result\n",
    "\n",
    "\n",
    "def main() -> None:\n",
    "    commands = input_data()\n",
    "    res = que_proc(commands)\n",
    "    print(*res, sep='\\n')\n",
    "\n",
    "\n",
    "def test():\n",
    "    res = que_proc(['put -34', 'put -23', 'get', 'size', 'get', 'size', 'get',\n",
    "                    'get', 'put 80', 'size'])\n",
    "    assert res == [-34, 1, -23, 0, 'error', 'error', 1]\n",
    "\n",
    "\n",
    "if __name__ == '__main__':\n",
    "    # main()\n",
    "    test()"
   ],
   "metadata": {
    "collapsed": false
   }
  },
  {
   "cell_type": "markdown",
   "source": [
    "## K. Рекурсивные числа Фибоначчи"
   ],
   "metadata": {
    "collapsed": false
   }
  },
  {
   "cell_type": "code",
   "execution_count": 33,
   "outputs": [
    {
     "name": "stdout",
     "output_type": "stream",
     "text": [
      "1\n",
      "CPU times: user 16.8 ms, sys: 4.02 ms, total: 20.8 ms\n",
      "Wall time: 1.63 s\n"
     ]
    }
   ],
   "source": [
    "from functools import lru_cache\n",
    "\n",
    "\n",
    "@lru_cache()\n",
    "def algorithm(n: int) -> int:\n",
    "    if n == 0 or n == 1:\n",
    "        return 1\n",
    "    return algorithm(n-1) + algorithm(n - 2)\n",
    "\n",
    "\n",
    "def input_data() -> int:\n",
    "    return int(input())\n",
    "\n",
    "\n",
    "def main() -> None:\n",
    "    n = input_data()\n",
    "    res = algorithm(n)\n",
    "    print(res)\n",
    "\n",
    "\n",
    "if __name__ == '__main__':\n",
    "    %time main()"
   ],
   "metadata": {
    "collapsed": false
   }
  },
  {
   "cell_type": "markdown",
   "source": [
    "## L. Фибоначчи по модулю"
   ],
   "metadata": {
    "collapsed": false
   }
  },
  {
   "cell_type": "markdown",
   "source": [
    "### v.1 циклом"
   ],
   "metadata": {
    "collapsed": false
   }
  },
  {
   "cell_type": "code",
   "execution_count": 35,
   "outputs": [
    {
     "name": "stdout",
     "output_type": "stream",
     "text": [
      "9\n",
      "CPU times: user 12.7 ms, sys: 8.87 ms, total: 21.6 ms\n",
      "Wall time: 1.94 s\n"
     ]
    }
   ],
   "source": [
    "def fib_mod(n, k):\n",
    "    mod = 10 ** k\n",
    "    a, b = 1, 1\n",
    "    if n < 2:\n",
    "        return 1\n",
    "    i = 0\n",
    "    while i != n:\n",
    "        a, b = b, (a+b) % mod\n",
    "        i += 1\n",
    "    return a\n",
    "\n",
    "\n",
    "def input_data() -> list:\n",
    "    return list(map(int,input().split()))\n",
    "\n",
    "\n",
    "def main() -> None:\n",
    "    n, k = input_data()\n",
    "    res = fib_mod(n, k)\n",
    "    print(res)\n",
    "\n",
    "\n",
    "if __name__ == '__main__':\n",
    "    %time main()"
   ],
   "metadata": {
    "collapsed": false
   }
  },
  {
   "cell_type": "markdown",
   "source": [
    "### v.2 матрицей"
   ],
   "metadata": {
    "collapsed": false
   }
  },
  {
   "cell_type": "code",
   "execution_count": 71,
   "outputs": [
    {
     "name": "stdout",
     "output_type": "stream",
     "text": [
      "CPU times: user 992 µs, sys: 170 µs, total: 1.16 ms\n",
      "Wall time: 800 µs\n"
     ]
    }
   ],
   "source": [
    "# v.2\n",
    "\n",
    "class FiboMatrix:\n",
    "    def __init__(self, m, k):\n",
    "        self.data = m\n",
    "        self.k = k\n",
    "        self.mod = 10 ** k\n",
    "\n",
    "    def __matmul__(self, y):\n",
    "        ans = self.copy()\n",
    "        ans @= y\n",
    "        return ans\n",
    "\n",
    "    def __imatmul__(self, y):\n",
    "        self.data = [[sum((a * b) % self.mod for a, b in zip(row_a, col_b))\n",
    "                      for col_b in zip(*y.data)] for row_a in self.data]\n",
    "        return self\n",
    "\n",
    "    def __pow__(self, exp):\n",
    "        cur = FiboMatrix([[1, 0],[ 0, 1]], self.k)\n",
    "        base = self.copy()\n",
    "        while exp:\n",
    "            if exp & 1:\n",
    "                exp -= 1\n",
    "                cur @= base\n",
    "            else:\n",
    "                exp >>= 1\n",
    "                base @= base\n",
    "        return cur\n",
    "\n",
    "    def copy(self):\n",
    "        return FiboMatrix(self.data, self.k)\n",
    "\n",
    "\n",
    "def fib_mod(n, k):\n",
    "    fib_mat = FiboMatrix([[0, 1], [1, 1]], k)\n",
    "    fib_pow = fib_mat ** n\n",
    "    return fib_pow.data[1][1] % 10 ** k\n",
    "\n",
    "\n",
    "def input_data() -> list:\n",
    "    return list(map(int, input().split()))\n",
    "\n",
    "\n",
    "def main() -> None:\n",
    "    n, k = input_data()\n",
    "    res = fib_mod(n, k)\n",
    "    print(res)\n",
    "\n",
    "\n",
    "def test():\n",
    "    assert fib_mod(3, 1) == 3\n",
    "    assert fib_mod(10, 1) == 9\n",
    "    assert fib_mod(70, 6) == 170129\n",
    "    assert fib_mod(237, 7) == 471519\n",
    "\n",
    "\n",
    "if __name__ == '__main__':\n",
    "    %time main()\n",
    "    # %time test()"
   ],
   "metadata": {
    "collapsed": false
   }
  },
  {
   "cell_type": "markdown",
   "source": [
    "### v.3 быстрый алгоритм"
   ],
   "metadata": {
    "collapsed": false
   }
  },
  {
   "cell_type": "code",
   "execution_count": 78,
   "outputs": [
    {
     "name": "stdout",
     "output_type": "stream",
     "text": [
      "3\n"
     ]
    }
   ],
   "source": [
    "def fib_mod(n, mod):\n",
    "    if n == 0:\n",
    "        return 0, 1\n",
    "    else:\n",
    "        a, b = fib_mod(n // 2, mod)\n",
    "        c = multiply(a, multiply(b, 2) - a)\n",
    "        d = multiply(a, a) + multiply(b, b)\n",
    "    if n & 1:\n",
    "        return d % mod, (c + d) % mod\n",
    "    return c % mod, d % mod\n",
    "\n",
    "\n",
    "def input_data() -> list:\n",
    "    return list(map(int, input().split()))\n",
    "\n",
    "\n",
    "def main() -> None:\n",
    "    n, k = input_data()\n",
    "    mod = 10 ** k\n",
    "    res = fib_mod(n, mod)[1]\n",
    "    print(res)\n",
    "\n",
    "\n",
    "def test():\n",
    "    # mod = 10 ** k\n",
    "    assert fib_mod(3, 10)[1] == 3\n",
    "    assert fib_mod(10, 10)[1] == 9\n",
    "    assert fib_mod(70, 1000000)[1] == 170129\n",
    "    assert fib_mod(237, 10000000)[1] == 471519\n",
    "    print(fib_mod(3, 10)[1])\n",
    "\n",
    "\n",
    "if __name__ == '__main__':\n",
    "    # main()\n",
    "    test()"
   ],
   "metadata": {
    "collapsed": false
   }
  },
  {
   "cell_type": "markdown",
   "source": [
    "# Финальные задачи"
   ],
   "metadata": {
    "collapsed": false
   }
  },
  {
   "cell_type": "markdown",
   "source": [
    "## A. Дек"
   ],
   "metadata": {
    "collapsed": false
   }
  },
  {
   "cell_type": "code",
   "execution_count": 36,
   "outputs": [],
   "source": [
    "from typing import Tuple, List, Optional\n",
    "\n",
    "\n",
    "class Deque:\n",
    "    def __init__(self, n: int):\n",
    "        self.__deque: list = [None] * n\n",
    "        self.__max_size: int = n\n",
    "        self.__head: int = 0\n",
    "        self.__tail: int = -1\n",
    "        self.__size: int = 0\n",
    "\n",
    "    def push_back(self, value: str) -> None:\n",
    "        self.__is_full()\n",
    "        self.__push(self.__tail, value)\n",
    "        self.__tail = self.__get_index(self.__tail, -1)\n",
    "\n",
    "    def push_front(self, value: str) -> None:\n",
    "        self.__is_full()\n",
    "        self.__push(self.__head, value)\n",
    "        self.__head = self.__get_index(self.__head, 1)\n",
    "\n",
    "    def pop_back(self) -> str:\n",
    "        self.__is_empty()\n",
    "        self.__tail = self.__get_index(self.__tail, 1)\n",
    "        return self.__pop(self.__tail)\n",
    "\n",
    "    def pop_front(self) -> str:\n",
    "        self.__is_empty()\n",
    "        self.__head = self.__get_index(self.__head, -1)\n",
    "        return self.__pop(self.__head)\n",
    "\n",
    "    def __push(self, index: int, value: str) -> None:\n",
    "        self.__deque[index] = value\n",
    "        self.__size += 1\n",
    "\n",
    "    def __pop(self, index: int) -> str:\n",
    "        x = self.__deque[index]\n",
    "        self.__deque[index] = None\n",
    "        self.__size -= 1\n",
    "        return x\n",
    "\n",
    "    def __get_index(self, index: int, inc: int) -> int:\n",
    "        return (index + inc) % self.__max_size\n",
    "\n",
    "    def __is_empty(self) -> None:\n",
    "        if self.__size == 0:\n",
    "            raise IndexError\n",
    "\n",
    "    def __is_full(self) -> None:\n",
    "        if self.__size == self.__max_size:\n",
    "            raise IndexError\n",
    "\n",
    "\n",
    "def input_data() -> Tuple[int, List[str]]:\n",
    "    n, m = int(input()), int(input())\n",
    "    commands = [input() for _ in range(n)]\n",
    "    return m, commands\n",
    "\n",
    "\n",
    "def deque_proc(deq: Deque, el: str) -> Optional[str]:\n",
    "    cmd, *val = el.split()\n",
    "    call = getattr(deq, cmd)\n",
    "    try:\n",
    "        return call(*val)\n",
    "    except IndexError:\n",
    "        return 'error'\n",
    "\n",
    "\n",
    "def algorithm(m: int, data: list) -> list:\n",
    "    deq = Deque(m)\n",
    "    result = []\n",
    "    for el in data:\n",
    "        res = deque_proc(deq, el)\n",
    "        if res:\n",
    "            result.append(res)\n",
    "    return result\n",
    "\n",
    "\n",
    "def main() -> None:\n",
    "    m, data = input_data()\n",
    "    res = algorithm(m, data)\n",
    "    print(*res, sep='\\n')\n",
    "\n",
    "\n",
    "def test():\n",
    "    res = algorithm(4, ['push_front 861', 'push_front -819', 'pop_back',\n",
    "                        'pop_back'])\n",
    "    assert res == ['861', '-819']\n",
    "\n",
    "\n",
    "if __name__ == '__main__':\n",
    "    main()"
   ],
   "metadata": {
    "collapsed": false
   }
  },
  {
   "cell_type": "markdown",
   "source": [
    "## B. Калькулятор"
   ],
   "metadata": {
    "collapsed": false
   },
   "execution_count": 0
  },
  {
   "cell_type": "code",
   "execution_count": 36,
   "outputs": [],
   "source": [
    "class Stack(list):\n",
    "    def push(self, value):\n",
    "        self.append(value)\n",
    "\n",
    "\n",
    "def calc(data: list) -> int:\n",
    "    stack = Stack()\n",
    "    for el in data:\n",
    "        if el.lstrip('+-*/').isdigit():\n",
    "            stack.push(int(el))\n",
    "        else:\n",
    "            if el == '/':\n",
    "                el += '/'\n",
    "            x, y = stack.pop(), stack.pop()\n",
    "            stack.push(eval(f'y {el} x'))\n",
    "    return stack.pop()\n",
    "\n",
    "\n",
    "def input_data() -> list:\n",
    "    return input().split()\n",
    "\n",
    "\n",
    "def main() -> None:\n",
    "    data = input_data()\n",
    "    res = calc(data)\n",
    "    print(res)\n",
    "\n",
    "\n",
    "def test():\n",
    "    res = calc(['2', '1', '+', '3', '*'])\n",
    "    assert res == 9\n",
    "\n",
    "\n",
    "if __name__ == '__main__':\n",
    "    # main()\n",
    "    test()"
   ],
   "metadata": {
    "collapsed": false
   }
  },
  {
   "cell_type": "markdown",
   "source": [
    "# Разное"
   ],
   "metadata": {
    "collapsed": false
   }
  },
  {
   "cell_type": "markdown",
   "source": [
    "## Декоратор"
   ],
   "metadata": {
    "collapsed": false
   }
  },
  {
   "cell_type": "code",
   "execution_count": null,
   "outputs": [],
   "source": [
    "def test_ex(f):\n",
    "    def wrapper(*args, **kwargs):\n",
    "        try:\n",
    "            return f(*args, **kwargs)\n",
    "        except IndexError:\n",
    "            print('error')\n",
    "    return wrapper"
   ],
   "metadata": {
    "collapsed": false
   }
  },
  {
   "cell_type": "markdown",
   "source": [
    "## Алгоритм умножения Karatsuba multiplication"
   ],
   "metadata": {
    "collapsed": false
   }
  },
  {
   "cell_type": "code",
   "execution_count": null,
   "outputs": [],
   "source": [
    "# https://www.nayuki.io/page/karatsuba-multiplication\n",
    "\n",
    "_CUTOFF = 1536\n",
    "\n",
    "\n",
    "def multiply(x, y):\n",
    "    if x.bit_length() <= _CUTOFF or y.bit_length() <= _CUTOFF:  # Base case\n",
    "        return x * y\n",
    "    else:\n",
    "        n = max(x.bit_length(), y.bit_length())\n",
    "        half = (n + 32) // 64 * 32\n",
    "        mask = (1 << half) - 1\n",
    "        xlow = x & mask\n",
    "        ylow = y & mask\n",
    "        xhigh = x >> half\n",
    "        yhigh = y >> half\n",
    "\n",
    "        a = multiply(xhigh, yhigh)\n",
    "        b = multiply(xlow + xhigh, ylow + yhigh)\n",
    "        c = multiply(xlow, ylow)\n",
    "        d = b - a - c\n",
    "        return (((a << half) + d) << half) + c"
   ],
   "metadata": {
    "collapsed": false
   }
  }
 ],
 "metadata": {
  "kernelspec": {
   "display_name": "Python 3",
   "language": "python",
   "name": "python3"
  },
  "language_info": {
   "codemirror_mode": {
    "name": "ipython",
    "version": 2
   },
   "file_extension": ".py",
   "mimetype": "text/x-python",
   "name": "python",
   "nbconvert_exporter": "python",
   "pygments_lexer": "ipython2",
   "version": "2.7.6"
  }
 },
 "nbformat": 4,
 "nbformat_minor": 0
}
