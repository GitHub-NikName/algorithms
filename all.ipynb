{
 "cells": [
  {
   "cell_type": "markdown",
   "source": [
    "# Основные структуры данных"
   ],
   "metadata": {
    "collapsed": false
   }
  },
  {
   "cell_type": "markdown",
   "source": [
    "### F. Стек - Max"
   ],
   "metadata": {
    "collapsed": false
   }
  },
  {
   "cell_type": "code",
   "execution_count": 22,
   "outputs": [],
   "source": [
    "from typing import Optional, Union\n",
    "\n",
    "\n",
    "class StackMax:\n",
    "    def __init__(self):\n",
    "        self.items = []\n",
    "\n",
    "    def push(self, item: str) -> None:\n",
    "        self.items.append(int(item))\n",
    "\n",
    "    def pop(self) -> None:\n",
    "        if not len(self.items):\n",
    "            raise IndexError('error')\n",
    "        self.items.pop()\n",
    "\n",
    "    def get_max(self) -> int:\n",
    "        if not len(self.items):\n",
    "            raise IndexError('None')\n",
    "        return max(self.items)\n",
    "\n",
    "\n",
    "def input_data() -> list:\n",
    "    n = int(input())\n",
    "    data = [input() for _ in range(n)]\n",
    "    return data\n",
    "\n",
    "\n",
    "def make_magik(stack: StackMax, el: str) -> Optional[Union[int, str]]:\n",
    "    command, *value = el.split()\n",
    "    call = getattr(stack, command)\n",
    "    try:\n",
    "        return call(*value)\n",
    "    except IndexError as e:\n",
    "        return e.args[0]\n",
    "\n",
    "\n",
    "def algorithm(data: list) -> list:\n",
    "    stack = StackMax()\n",
    "    result = []\n",
    "    for el in data:\n",
    "        res = make_magik(stack, el)\n",
    "        if res is not None:\n",
    "            result.append(res)\n",
    "    return result\n",
    "\n",
    "\n",
    "def main() -> None:\n",
    "    data = input_data()\n",
    "    res = algorithm(data)\n",
    "    print(*res, sep='\\n')\n",
    "\n",
    "\n",
    "def test():\n",
    "    res = algorithm(['get_max', 'push 7', 'pop', 'push -2', 'push -1', 'pop',\n",
    "                     'get_max', 'get_max'])\n",
    "    assert res == ['None', -2, -2]\n",
    "\n",
    "\n",
    "if __name__ == '__main__':\n",
    "    main()"
   ],
   "metadata": {
    "collapsed": false
   }
  },
  {
   "cell_type": "markdown",
   "source": [
    "### G. Стек - MaxEffective"
   ],
   "metadata": {
    "collapsed": false
   }
  },
  {
   "cell_type": "code",
   "execution_count": 29,
   "outputs": [],
   "source": [
    "from typing import Optional, Union\n",
    "\n",
    "\n",
    "class StackMaxEffective:\n",
    "    def __init__(self):\n",
    "        self.__items: list = []\n",
    "        self.__max_items: list = [float('-inf')]\n",
    "\n",
    "    def push(self, item: str) -> None:\n",
    "        item = int(item)\n",
    "        self.__items.append(item)\n",
    "        if item >= self.__max_items[-1]:\n",
    "            self.__max_items.append(item)\n",
    "\n",
    "    def pop(self) -> None:\n",
    "        if self.__is_empty():\n",
    "            raise IndexError('error')\n",
    "        item = self.__items.pop()\n",
    "        if item == self.__max_items[-1]:\n",
    "            self.__max_items.pop()\n",
    "\n",
    "    def get_max(self) -> int:\n",
    "        if self.__is_empty():\n",
    "            raise IndexError('None')\n",
    "        return self.__max_items[-1]\n",
    "\n",
    "    def __is_empty(self) -> bool:\n",
    "        return not self.__items\n",
    "\n",
    "\n",
    "def input_data() -> list:\n",
    "    n = int(input())\n",
    "    return [input() for _ in range(n)]\n",
    "\n",
    "\n",
    "def make_magik(stack: StackMaxEffective, el: str) -> Optional[Union[int, str]]:\n",
    "    command, *value = el.split()\n",
    "    call = getattr(stack, command)\n",
    "    try:\n",
    "        return call(*value)\n",
    "    except IndexError as e:\n",
    "        return e.args[0]\n",
    "\n",
    "\n",
    "def algorithm(data: list) -> list:\n",
    "    stack = StackMaxEffective()\n",
    "    result = []\n",
    "    for el in data:\n",
    "        res = make_magik(stack, el)\n",
    "        if res is not None:\n",
    "            result.append(res)\n",
    "    return result\n",
    "\n",
    "\n",
    "def main() -> None:\n",
    "    data = input_data()\n",
    "    res = algorithm(data)\n",
    "    print(*res, sep='\\n')\n",
    "\n",
    "\n",
    "def test():\n",
    "    res = algorithm(['pop', 'pop', 'push 4', 'push -5', 'push 7', 'pop', 'pop',\n",
    "                     'get_max', 'pop', 'get_max'])\n",
    "    assert res == ['error', 'error', 4, 'None']\n",
    "\n",
    "\n",
    "if __name__ == '__main__':\n",
    "    main()"
   ],
   "metadata": {
    "collapsed": false
   }
  },
  {
   "cell_type": "markdown",
   "source": [
    "### H. Скобочная последовательность"
   ],
   "metadata": {
    "collapsed": false
   }
  },
  {
   "cell_type": "code",
   "execution_count": 21,
   "outputs": [
    {
     "name": "stdout",
     "output_type": "stream",
     "text": [
      "True\n",
      "True\n",
      "True\n",
      "False\n"
     ]
    }
   ],
   "source": [
    "class BracketStack:\n",
    "    def __init__(self):\n",
    "        self.__items: list = ['']\n",
    "\n",
    "    def push(self, item: str) -> None:\n",
    "        self.__items.append(item)\n",
    "\n",
    "    def pop(self) -> str:\n",
    "        return self.__items.pop()\n",
    "\n",
    "    @property\n",
    "    def top(self) -> str:\n",
    "        return self.__items[-1]\n",
    "\n",
    "\n",
    "def input_data() -> str:\n",
    "    return input()\n",
    "\n",
    "\n",
    "def is_correct_bracket_seq(seq: str) -> bool:\n",
    "    if not seq:\n",
    "        return True\n",
    "    stack = BracketStack()\n",
    "    d = {')': '(', ']': '[', '}': '{'}\n",
    "    for item in seq:\n",
    "        if stack.top == d.get(item):\n",
    "            stack.pop()\n",
    "        else:\n",
    "            stack.push(item)\n",
    "    return not stack.pop()\n",
    "\n",
    "def main() -> None:\n",
    "    seq = input_data()\n",
    "    res = is_correct_bracket_seq(seq)\n",
    "    print(res)\n",
    "\n",
    "\n",
    "def test():\n",
    "    seq = ['', '{[()]}', '()', '({[]}']\n",
    "    for i in seq:\n",
    "        print(is_correct_bracket_seq(i))\n",
    "\n",
    "\n",
    "if __name__ == '__main__':\n",
    "    # main()\n",
    "    test()"
   ],
   "metadata": {
    "collapsed": false
   }
  },
  {
   "cell_type": "markdown",
   "source": [
    "## I. Ограниченная очередь"
   ],
   "metadata": {
    "collapsed": false
   }
  },
  {
   "cell_type": "code",
   "execution_count": 28,
   "outputs": [],
   "source": [
    "# I. Ограниченная очередь\n",
    "from typing import Tuple, Optional, Union\n",
    "\n",
    "\n",
    "class MyQueueSized:\n",
    "    def __init__(self, n):\n",
    "        self.__queue: list = [None] * n\n",
    "        self.__max_size: int = n\n",
    "        self.__head: int = 0\n",
    "        self.__tail: int = 0\n",
    "        self.__size: int = 0\n",
    "\n",
    "    def push(self, x: str) -> None:\n",
    "        if self.__size == self.__max_size:\n",
    "            raise IndexError('error')\n",
    "        self.__queue[self.__tail] = int(x)\n",
    "        self.__tail = self.__get_index(self.__tail)\n",
    "        self.__size += 1\n",
    "\n",
    "    def pop(self) -> int:\n",
    "        if self.__size == 0:\n",
    "            raise IndexError('None')\n",
    "        x = self.__queue[self.__head]\n",
    "        self.__queue[self.__head] = None\n",
    "        self.__head = self.__get_index(self.__head)\n",
    "        self.__size -= 1\n",
    "        return x\n",
    "\n",
    "    def peek(self) -> int:\n",
    "        if self.__size == 0:\n",
    "            raise IndexError('None')\n",
    "        return self.__queue[self.__head]\n",
    "\n",
    "    def size(self) -> int:\n",
    "        return self.__size\n",
    "\n",
    "    def __get_index(self, index: int) -> int:\n",
    "        return (index + 1) % self.__max_size\n",
    "\n",
    "\n",
    "def input_data() -> Tuple[int, list]:\n",
    "    n = int(input())\n",
    "    max_size = int(input())\n",
    "    data = [input() for _ in range(n)]\n",
    "    return max_size, data\n",
    "\n",
    "\n",
    "def make_magik(queue: MyQueueSized, el: str) -> Optional[Union[str, int]]:\n",
    "    cmd, *val = el.split()\n",
    "    call = getattr(queue, cmd)\n",
    "    try:\n",
    "        return call(*val)\n",
    "    except IndexError as e:\n",
    "        return e.args[0]\n",
    "\n",
    "\n",
    "def algorithm(max_size: int, data: list) -> list:\n",
    "    queue = MyQueueSized(max_size)\n",
    "    result = []\n",
    "    for el in data:\n",
    "        res = make_magik(queue, el)\n",
    "        if res is not None:\n",
    "            result.append(res)\n",
    "    return result\n",
    "\n",
    "\n",
    "def main() -> None:\n",
    "    max_size, data = input_data()\n",
    "    res = algorithm(max_size, data)\n",
    "    print(*res, sep='\\n')\n",
    "\n",
    "\n",
    "def test():\n",
    "    res = algorithm(2, ['peek', 'push 5', 'push 2', 'peek', 'size', 'size',\n",
    "                        'push 1', 'size'])\n",
    "    assert res == ['None', 5, 2, 2, 'error', 2]\n",
    "\n",
    "\n",
    "if __name__ == '__main__':\n",
    "    # main()\n",
    "    test()"
   ],
   "metadata": {
    "collapsed": false
   }
  },
  {
   "cell_type": "markdown",
   "source": [
    "## J. Списочная очередь"
   ],
   "metadata": {
    "collapsed": false
   }
  },
  {
   "cell_type": "code",
   "execution_count": 30,
   "outputs": [],
   "source": [
    "# J. Списочная очередь\n",
    "\n",
    "from typing import Optional\n",
    "\n",
    "\n",
    "class Node:\n",
    "    def __init__(self, value: int, next_item=None):\n",
    "        self.value: int = value\n",
    "        self.next_item: Node = next_item\n",
    "\n",
    "\n",
    "class Queue:\n",
    "    def __init__(self):\n",
    "        self.__size: int = 0\n",
    "        self.__head: Optional[Node] = None\n",
    "        self.__tail: Optional[Node] = None\n",
    "\n",
    "    def get(self) -> int:\n",
    "        if self.__size == 0:\n",
    "            raise IndexError\n",
    "        x = self.__head.value\n",
    "        self.__head = self.__head.next_item\n",
    "        self.__size -= 1\n",
    "        return x\n",
    "\n",
    "    def put(self, value: str) -> None:\n",
    "        value = int(value)\n",
    "        if self.__size == 0:\n",
    "            self.__head = Node(value)\n",
    "            self.__tail = self.__head\n",
    "        else:\n",
    "            self.__tail.next_item = Node(value)\n",
    "            self.__tail = self.__tail.next_item\n",
    "        self.__size += 1\n",
    "\n",
    "    def size(self) -> int:\n",
    "        return self.__size\n",
    "\n",
    "\n",
    "def input_data() -> list:\n",
    "    n = int(input())\n",
    "    return [input() for _ in range(n)]\n",
    "\n",
    "\n",
    "def que_proc(commands: list) -> list:\n",
    "    que = Queue()\n",
    "    result = []\n",
    "    for el in commands:\n",
    "        cmd, *val = el.split()\n",
    "        call = getattr(que, cmd)\n",
    "        try:\n",
    "            res = call(*val)\n",
    "            if res is not None:\n",
    "                result.append(res)\n",
    "        except IndexError:\n",
    "            result.append('error')\n",
    "    return result\n",
    "\n",
    "\n",
    "def main() -> None:\n",
    "    commands = input_data()\n",
    "    res = que_proc(commands)\n",
    "    print(*res, sep='\\n')\n",
    "\n",
    "\n",
    "def test():\n",
    "    res = que_proc(['put -34', 'put -23', 'get', 'size', 'get', 'size', 'get',\n",
    "                    'get', 'put 80', 'size'])\n",
    "    assert res == [-34, 1, -23, 0, 'error', 'error', 1]\n",
    "\n",
    "\n",
    "if __name__ == '__main__':\n",
    "    # main()\n",
    "    test()"
   ],
   "metadata": {
    "collapsed": false
   }
  },
  {
   "cell_type": "markdown",
   "source": [
    "## K. Рекурсивные числа Фибоначчи"
   ],
   "metadata": {
    "collapsed": false
   }
  },
  {
   "cell_type": "code",
   "execution_count": 33,
   "outputs": [
    {
     "name": "stdout",
     "output_type": "stream",
     "text": [
      "1\n",
      "CPU times: user 16.8 ms, sys: 4.02 ms, total: 20.8 ms\n",
      "Wall time: 1.63 s\n"
     ]
    }
   ],
   "source": [
    "from functools import lru_cache\n",
    "\n",
    "\n",
    "@lru_cache()\n",
    "def algorithm(n: int) -> int:\n",
    "    if n == 0 or n == 1:\n",
    "        return 1\n",
    "    return algorithm(n-1) + algorithm(n - 2)\n",
    "\n",
    "\n",
    "def input_data() -> int:\n",
    "    return int(input())\n",
    "\n",
    "\n",
    "def main() -> None:\n",
    "    n = input_data()\n",
    "    res = algorithm(n)\n",
    "    print(res)\n",
    "\n",
    "\n",
    "if __name__ == '__main__':\n",
    "    %time main()"
   ],
   "metadata": {
    "collapsed": false
   }
  },
  {
   "cell_type": "markdown",
   "source": [
    "## L. Фибоначчи по модулю"
   ],
   "metadata": {
    "collapsed": false
   }
  },
  {
   "cell_type": "markdown",
   "source": [
    "### v.1 циклом"
   ],
   "metadata": {
    "collapsed": false
   }
  },
  {
   "cell_type": "code",
   "execution_count": 35,
   "outputs": [
    {
     "name": "stdout",
     "output_type": "stream",
     "text": [
      "9\n",
      "CPU times: user 12.7 ms, sys: 8.87 ms, total: 21.6 ms\n",
      "Wall time: 1.94 s\n"
     ]
    }
   ],
   "source": [
    "def fib_mod(n, k):\n",
    "    mod = 10 ** k\n",
    "    a, b = 1, 1\n",
    "    if n < 2:\n",
    "        return 1\n",
    "    i = 0\n",
    "    while i != n:\n",
    "        a, b = b, (a+b) % mod\n",
    "        i += 1\n",
    "    return a\n",
    "\n",
    "\n",
    "def input_data() -> list:\n",
    "    return list(map(int,input().split()))\n",
    "\n",
    "\n",
    "def main() -> None:\n",
    "    n, k = input_data()\n",
    "    res = fib_mod(n, k)\n",
    "    print(res)\n",
    "\n",
    "\n",
    "if __name__ == '__main__':\n",
    "    %time main()"
   ],
   "metadata": {
    "collapsed": false
   }
  },
  {
   "cell_type": "markdown",
   "source": [
    "### v.2 матрицей"
   ],
   "metadata": {
    "collapsed": false
   }
  },
  {
   "cell_type": "code",
   "execution_count": 71,
   "outputs": [
    {
     "name": "stdout",
     "output_type": "stream",
     "text": [
      "CPU times: user 992 µs, sys: 170 µs, total: 1.16 ms\n",
      "Wall time: 800 µs\n"
     ]
    }
   ],
   "source": [
    "# v.2\n",
    "\n",
    "class FiboMatrix:\n",
    "    def __init__(self, m, k):\n",
    "        self.data = m\n",
    "        self.k = k\n",
    "        self.mod = 10 ** k\n",
    "\n",
    "    def __matmul__(self, y):\n",
    "        ans = self.copy()\n",
    "        ans @= y\n",
    "        return ans\n",
    "\n",
    "    def __imatmul__(self, y):\n",
    "        self.data = [[sum((a * b) % self.mod for a, b in zip(row_a, col_b))\n",
    "                      for col_b in zip(*y.data)] for row_a in self.data]\n",
    "        return self\n",
    "\n",
    "    def __pow__(self, exp):\n",
    "        cur = FiboMatrix([[1, 0],[ 0, 1]], self.k)\n",
    "        base = self.copy()\n",
    "        while exp:\n",
    "            if exp & 1:\n",
    "                exp -= 1\n",
    "                cur @= base\n",
    "            else:\n",
    "                exp >>= 1\n",
    "                base @= base\n",
    "        return cur\n",
    "\n",
    "    def copy(self):\n",
    "        return FiboMatrix(self.data, self.k)\n",
    "\n",
    "\n",
    "def fib_mod(n, k):\n",
    "    fib_mat = FiboMatrix([[0, 1], [1, 1]], k)\n",
    "    fib_pow = fib_mat ** n\n",
    "    return fib_pow.data[1][1] % 10 ** k\n",
    "\n",
    "\n",
    "def input_data() -> list:\n",
    "    return list(map(int, input().split()))\n",
    "\n",
    "\n",
    "def main() -> None:\n",
    "    n, k = input_data()\n",
    "    res = fib_mod(n, k)\n",
    "    print(res)\n",
    "\n",
    "\n",
    "def test():\n",
    "    assert fib_mod(3, 1) == 3\n",
    "    assert fib_mod(10, 1) == 9\n",
    "    assert fib_mod(70, 6) == 170129\n",
    "    assert fib_mod(237, 7) == 471519\n",
    "\n",
    "\n",
    "if __name__ == '__main__':\n",
    "    %time main()\n",
    "    # %time test()"
   ],
   "metadata": {
    "collapsed": false
   }
  },
  {
   "cell_type": "markdown",
   "source": [
    "### v.3 быстрый алгоритм"
   ],
   "metadata": {
    "collapsed": false
   }
  },
  {
   "cell_type": "code",
   "execution_count": 78,
   "outputs": [
    {
     "name": "stdout",
     "output_type": "stream",
     "text": [
      "3\n"
     ]
    }
   ],
   "source": [
    "def fib_mod(n, mod):\n",
    "    if n == 0:\n",
    "        return 0, 1\n",
    "    else:\n",
    "        a, b = fib_mod(n // 2, mod)\n",
    "        c = multiply(a, multiply(b, 2) - a)\n",
    "        d = multiply(a, a) + multiply(b, b)\n",
    "    if n & 1:\n",
    "        return d % mod, (c + d) % mod\n",
    "    return c % mod, d % mod\n",
    "\n",
    "\n",
    "def input_data() -> list:\n",
    "    return list(map(int, input().split()))\n",
    "\n",
    "\n",
    "def main() -> None:\n",
    "    n, k = input_data()\n",
    "    mod = 10 ** k\n",
    "    res = fib_mod(n, mod)[1]\n",
    "    print(res)\n",
    "\n",
    "\n",
    "def test():\n",
    "    # mod = 10 ** k\n",
    "    assert fib_mod(3, 10)[1] == 3\n",
    "    assert fib_mod(10, 10)[1] == 9\n",
    "    assert fib_mod(70, 1000000)[1] == 170129\n",
    "    assert fib_mod(237, 10000000)[1] == 471519\n",
    "    print(fib_mod(3, 10)[1])\n",
    "\n",
    "\n",
    "if __name__ == '__main__':\n",
    "    # main()\n",
    "    test()"
   ],
   "metadata": {
    "collapsed": false
   }
  },
  {
   "cell_type": "markdown",
   "source": [
    "# Финальные задачи (12 спринт)"
   ],
   "metadata": {
    "collapsed": false
   }
  },
  {
   "cell_type": "markdown",
   "source": [
    "## A. Дек"
   ],
   "metadata": {
    "collapsed": false
   }
  },
  {
   "cell_type": "code",
   "execution_count": 36,
   "outputs": [],
   "source": [
    "from typing import Tuple, List, Optional\n",
    "\n",
    "\n",
    "class Deque:\n",
    "    def __init__(self, n: int):\n",
    "        self.__deque: list = [None] * n\n",
    "        self.__max_size: int = n\n",
    "        self.__head: int = 0\n",
    "        self.__tail: int = -1\n",
    "        self.__size: int = 0\n",
    "\n",
    "    def push_back(self, value: str) -> None:\n",
    "        self.__is_full()\n",
    "        self.__push(self.__tail, value)\n",
    "        self.__tail = self.__get_index(self.__tail, -1)\n",
    "\n",
    "    def push_front(self, value: str) -> None:\n",
    "        self.__is_full()\n",
    "        self.__push(self.__head, value)\n",
    "        self.__head = self.__get_index(self.__head, 1)\n",
    "\n",
    "    def pop_back(self) -> str:\n",
    "        self.__is_empty()\n",
    "        self.__tail = self.__get_index(self.__tail, 1)\n",
    "        return self.__pop(self.__tail)\n",
    "\n",
    "    def pop_front(self) -> str:\n",
    "        self.__is_empty()\n",
    "        self.__head = self.__get_index(self.__head, -1)\n",
    "        return self.__pop(self.__head)\n",
    "\n",
    "    def __push(self, index: int, value: str) -> None:\n",
    "        self.__deque[index] = value\n",
    "        self.__size += 1\n",
    "\n",
    "    def __pop(self, index: int) -> str:\n",
    "        x = self.__deque[index]\n",
    "        self.__deque[index] = None\n",
    "        self.__size -= 1\n",
    "        return x\n",
    "\n",
    "    def __get_index(self, index: int, inc: int) -> int:\n",
    "        return (index + inc) % self.__max_size\n",
    "\n",
    "    def __is_empty(self) -> None:\n",
    "        if self.__size == 0:\n",
    "            raise IndexError\n",
    "\n",
    "    def __is_full(self) -> None:\n",
    "        if self.__size == self.__max_size:\n",
    "            raise IndexError\n",
    "\n",
    "\n",
    "def input_data() -> Tuple[int, List[str]]:\n",
    "    n, m = int(input()), int(input())\n",
    "    commands = [input() for _ in range(n)]\n",
    "    return m, commands\n",
    "\n",
    "\n",
    "def deque_proc(deq: Deque, el: str) -> Optional[str]:\n",
    "    cmd, *val = el.split()\n",
    "    call = getattr(deq, cmd)\n",
    "    try:\n",
    "        return call(*val)\n",
    "    except IndexError:\n",
    "        return 'error'\n",
    "\n",
    "\n",
    "def algorithm(m: int, data: list) -> list:\n",
    "    deq = Deque(m)\n",
    "    result = []\n",
    "    for el in data:\n",
    "        res = deque_proc(deq, el)\n",
    "        if res:\n",
    "            result.append(res)\n",
    "    return result\n",
    "\n",
    "\n",
    "def main() -> None:\n",
    "    m, data = input_data()\n",
    "    res = algorithm(m, data)\n",
    "    print(*res, sep='\\n')\n",
    "\n",
    "\n",
    "def test():\n",
    "    res = algorithm(4, ['push_front 861', 'push_front -819', 'pop_back',\n",
    "                        'pop_back'])\n",
    "    assert res == ['861', '-819']\n",
    "\n",
    "\n",
    "if __name__ == '__main__':\n",
    "    main()"
   ],
   "metadata": {
    "collapsed": false
   }
  },
  {
   "cell_type": "markdown",
   "source": [
    "## B. Калькулятор"
   ],
   "metadata": {
    "collapsed": false
   },
   "execution_count": 0
  },
  {
   "cell_type": "code",
   "execution_count": 36,
   "outputs": [],
   "source": [
    "class Stack(list):\n",
    "    def push(self, value):\n",
    "        self.append(value)\n",
    "\n",
    "\n",
    "def calc(data: list) -> int:\n",
    "    stack = Stack()\n",
    "    for el in data:\n",
    "        if el.lstrip('+-*/').isdigit():\n",
    "            stack.push(int(el))\n",
    "        else:\n",
    "            if el == '/':\n",
    "                el += '/'\n",
    "            x, y = stack.pop(), stack.pop()\n",
    "            stack.push(eval(f'y {el} x'))\n",
    "    return stack.pop()\n",
    "\n",
    "\n",
    "def input_data() -> list:\n",
    "    return input().split()\n",
    "\n",
    "\n",
    "def main() -> None:\n",
    "    data = input_data()\n",
    "    res = calc(data)\n",
    "    print(res)\n",
    "\n",
    "\n",
    "def test():\n",
    "    res = calc(['2', '1', '+', '3', '*'])\n",
    "    assert res == 9\n",
    "\n",
    "\n",
    "if __name__ == '__main__':\n",
    "    # main()\n",
    "    test()"
   ],
   "metadata": {
    "collapsed": false
   }
  },
  {
   "cell_type": "markdown",
   "source": [
    "# Разное"
   ],
   "metadata": {
    "collapsed": false
   }
  },
  {
   "cell_type": "markdown",
   "source": [
    "## Декоратор"
   ],
   "metadata": {
    "collapsed": false
   }
  },
  {
   "cell_type": "code",
   "execution_count": null,
   "outputs": [],
   "source": [
    "def test_ex(f):\n",
    "    def wrapper(*args, **kwargs):\n",
    "        try:\n",
    "            return f(*args, **kwargs)\n",
    "        except IndexError:\n",
    "            print('error')\n",
    "    return wrapper"
   ],
   "metadata": {
    "collapsed": false
   }
  },
  {
   "cell_type": "markdown",
   "source": [
    "## Алгоритм умножения Karatsuba multiplication"
   ],
   "metadata": {
    "collapsed": false
   }
  },
  {
   "cell_type": "code",
   "execution_count": null,
   "outputs": [],
   "source": [
    "# https://www.nayuki.io/page/karatsuba-multiplication\n",
    "\n",
    "_CUTOFF = 1536\n",
    "\n",
    "\n",
    "def multiply(x, y):\n",
    "    if x.bit_length() <= _CUTOFF or y.bit_length() <= _CUTOFF:  # Base case\n",
    "        return x * y\n",
    "    else:\n",
    "        n = max(x.bit_length(), y.bit_length())\n",
    "        half = (n + 32) // 64 * 32\n",
    "        mask = (1 << half) - 1\n",
    "        xlow = x & mask\n",
    "        ylow = y & mask\n",
    "        xhigh = x >> half\n",
    "        yhigh = y >> half\n",
    "\n",
    "        a = multiply(xhigh, yhigh)\n",
    "        b = multiply(xlow + xhigh, ylow + yhigh)\n",
    "        c = multiply(xlow, ylow)\n",
    "        d = b - a - c\n",
    "        return (((a << half) + d) << half) + c"
   ],
   "metadata": {
    "collapsed": false
   }
  },
  {
   "cell_type": "markdown",
   "source": [
    "## getatr"
   ],
   "metadata": {
    "collapsed": false
   }
  },
  {
   "cell_type": "code",
   "execution_count": null,
   "outputs": [],
   "source": [
    "class Deq(list):\n",
    "    pass\n",
    "\n",
    "deq = Deq()\n",
    "commands = ['append 54', 'append 55', 'pop']\n",
    "for el in commands:\n",
    "    cmd, *val = el.split()\n",
    "    call = getattr(deq, cmd)\n",
    "    call(*val)\n",
    "print(deq)"
   ],
   "metadata": {
    "collapsed": false
   }
  },
  {
   "cell_type": "markdown",
   "source": [
    "# Рекурсия и сортировки"
   ],
   "metadata": {
    "collapsed": false
   }
  },
  {
   "cell_type": "markdown",
   "source": [
    "## A. Генератор скобок"
   ],
   "metadata": {
    "collapsed": false
   }
  },
  {
   "cell_type": "code",
   "execution_count": 93,
   "outputs": [
    {
     "name": "stdout",
     "output_type": "stream",
     "text": [
      "(())\n",
      "()()\n"
     ]
    }
   ],
   "source": [
    "class GenBracket:\n",
    "    def __init__(self, n=None):\n",
    "        self.__n: int = n or int(input())\n",
    "        self.__d = {')': '('}\n",
    "        self.__res: list = []\n",
    "\n",
    "    def __check(self, seq: str) -> bool:\n",
    "        if seq[0] == ')':\n",
    "            return False\n",
    "\n",
    "        stack = ['']\n",
    "        for i in seq:\n",
    "            if stack[-1] == self.__d.get(i):\n",
    "                stack.pop()\n",
    "            else:\n",
    "                stack.append(i)\n",
    "        return not stack.pop()\n",
    "\n",
    "    def __gen_binary(self, n, prefix) -> None:\n",
    "        if n == 0:\n",
    "            if self.__check(prefix):\n",
    "                return self.__res.append(prefix)\n",
    "        else:\n",
    "            self.__gen_binary(n - 1, prefix + '(')\n",
    "            self.__gen_binary(n - 1, prefix + ')')\n",
    "\n",
    "    def gen_bracket(self):\n",
    "        self.__gen_binary(self.__n << 1, '')\n",
    "        return self.__res\n",
    "\n",
    "def main():\n",
    "    a = GenBracket(2)\n",
    "    print(*a.gen_bracket(), sep='\\n')\n",
    "\n",
    "\n",
    "if __name__ == '__main__':\n",
    "    main()"
   ],
   "metadata": {
    "collapsed": false
   }
  },
  {
   "cell_type": "markdown",
   "source": [
    "## B. Комбинации"
   ],
   "metadata": {
    "collapsed": false
   }
  },
  {
   "cell_type": "code",
   "execution_count": 84,
   "outputs": [
    {
     "name": "stdout",
     "output_type": "stream",
     "text": [
      "ad ae af bd be bf cd ce cf\n"
     ]
    }
   ],
   "source": [
    "class Combination:\n",
    "    def __init__(self, n=None):\n",
    "        self.__digits: str = n or input()\n",
    "        self.__keys = {\n",
    "            '2':'abc',\n",
    "            '3':'def',\n",
    "            '4':'ghi',\n",
    "            '5':'jkl',\n",
    "            '6':'mno',\n",
    "            '7':'pqrs',\n",
    "            '8':'tuv',\n",
    "            '9':'wxyz'\n",
    "        }\n",
    "        self.__res = set()\n",
    "\n",
    "    def __gen_binary(self, n: int, prefix: str) -> None:\n",
    "        if n == 0:\n",
    "            return self.__res.add(prefix)\n",
    "        digit = self.__digits[n - 1]\n",
    "        for i in self.__keys[digit]:\n",
    "            self.__gen_binary(n - 1, i + prefix)\n",
    "\n",
    "    @property\n",
    "    def combinations(self) -> str:\n",
    "        self.__res = set()\n",
    "        self.__gen_binary(len(self.__digits), '')\n",
    "        return ' '.join(sorted(self.__res))\n",
    "\n",
    "\n",
    "def test():\n",
    "    obj = Combination('23')\n",
    "    assert obj.combinations == 'ad ae af bd be bf cd ce cf'\n",
    "    obj = Combination('92')\n",
    "    assert obj.combinations == 'wa wb wc xa xb xc ya yb yc za zb zc'\n",
    "\n",
    "\n",
    "def main() -> None:\n",
    "    a = Combination()\n",
    "    print(a.combinations)\n",
    "\n",
    "\n",
    "if __name__ == '__main__':\n",
    "    main()"
   ],
   "metadata": {
    "collapsed": false
   }
  },
  {
   "cell_type": "markdown",
   "source": [
    "## L. Два велосипеда"
   ],
   "metadata": {
    "collapsed": false
   }
  },
  {
   "cell_type": "code",
   "execution_count": 2,
   "outputs": [],
   "source": [
    "from typing import Tuple\n",
    "\n",
    "\n",
    "class Pig:\n",
    "    def __init__(self, n=None, arr=None, s=None):\n",
    "        self.__n = n or int(input())\n",
    "        self.__arr = arr or list(map(int, input().split()))\n",
    "        self.__s = s or int(input())\n",
    "\n",
    "    def binary_search(self, s: int, left: int, right: int) -> int:\n",
    "        if self.__arr[-1] < s:\n",
    "            return -1\n",
    "        if self.__arr[left] >= s:\n",
    "            return left + 1\n",
    "        # if right <= left:\n",
    "        #     return left + 1\n",
    "        mid = (left + right) // 2\n",
    "        if self.__arr[mid] < s:\n",
    "            return self.binary_search(s, mid + 1, right)\n",
    "        else:\n",
    "            return self.binary_search(s, left, mid)\n",
    "\n",
    "    @property\n",
    "    def one_two_bicycles(self) -> Tuple[int, int]:\n",
    "        one = self.binary_search(self.__s, 0, self.__n)\n",
    "        if one == -1:\n",
    "            return -1, -1\n",
    "        two = self.binary_search(self.__s << 1, one, self.__n)\n",
    "        return one, two\n",
    "\n",
    "\n",
    "def test():\n",
    "    pig = Pig(6, [1, 2, 4, 4, 6, 8], 3)\n",
    "    assert pig.one_two_bicycles == (3, 5)\n",
    "\n",
    "    pig = Pig(6, [1, 2, 4, 4, 4, 4], 3)\n",
    "    assert pig.one_two_bicycles == (3, -1)\n",
    "\n",
    "    pig = Pig(6, [1, 2, 4, 4, 4, 4], 10)\n",
    "    assert pig.one_two_bicycles == (-1, -1)\n",
    "\n",
    "    pig = Pig(6, [1, 2, 4, 4, 4, 4], 1)\n",
    "    assert pig.one_two_bicycles == (1, 2)\n",
    "\n",
    "\n",
    "def main() -> None:\n",
    "    pig = Pig()\n",
    "    print(*pig.one_two_bicycles)\n",
    "\n",
    "\n",
    "if __name__ == '__main__':\n",
    "    # main()\n",
    "    test()\n"
   ],
   "metadata": {
    "collapsed": false
   }
  },
  {
   "cell_type": "markdown",
   "source": [
    "## J. Пузырёк"
   ],
   "metadata": {
    "collapsed": false
   }
  },
  {
   "cell_type": "code",
   "execution_count": 121,
   "outputs": [
    {
     "name": "stdout",
     "output_type": "stream",
     "text": [
      "3 4 2 1 9\n",
      "3 2 1 4 9\n",
      "2 1 3 4 9\n",
      "1 2 3 4 9\n"
     ]
    }
   ],
   "source": [
    "from typing import Tuple, List\n",
    "\n",
    "\n",
    "def input_data()-> Tuple[int, List[int]]:\n",
    "    n = int(input())\n",
    "    arr = list(map(int, input().split()))\n",
    "    return n, arr\n",
    "\n",
    "def algorithm(n: int, arr: List[int]) -> List[List[int]]:\n",
    "    res = []\n",
    "    for i in range(n - 1):\n",
    "        flag = False\n",
    "        for j in range(n - 1):\n",
    "            if arr[j] > arr[j + 1]:\n",
    "                arr[j], arr[j + 1] = arr[j + 1], arr[j]\n",
    "                flag = True\n",
    "        if flag:\n",
    "            res.append(arr.copy())\n",
    "        else:\n",
    "            return res\n",
    "    return res\n",
    "\n",
    "\n",
    "def test():\n",
    "    res = algorithm(5, [12, 8, 9, 10, 11])\n",
    "    assert res == [[8, 9, 10, 11, 12]]\n",
    "\n",
    "\n",
    "def main() -> None:\n",
    "    n, arr = input_data()\n",
    "    res = algorithm(n, arr)\n",
    "    [print(*i) for i in res] if res else print(*arr)\n",
    "\n",
    "\n",
    "if __name__ == '__main__':\n",
    "    main()\n",
    "    # test()"
   ],
   "metadata": {
    "collapsed": false
   }
  },
  {
   "cell_type": "markdown",
   "source": [
    "## H. Большое число"
   ],
   "metadata": {
    "collapsed": false
   }
  },
  {
   "cell_type": "code",
   "execution_count": 29,
   "outputs": [],
   "source": [
    "from typing import Tuple, List\n",
    "\n",
    "\n",
    "def input_data() -> Tuple[int, List[str]]:\n",
    "    return int(input()), input().split()\n",
    "\n",
    "\n",
    "def less(obj_1: str, obj_2: str) -> bool:\n",
    "    if len(obj_1) == len(obj_2):\n",
    "        return obj_1 > obj_2\n",
    "    return obj_1 + obj_2 > obj_2 + obj_1\n",
    "\n",
    "\n",
    "def algorithm(n: int, arr: list) -> str:\n",
    "    for i in range(1, n):\n",
    "        item_to_insert = arr[i]\n",
    "        j = i\n",
    "        while j > 0 and less(item_to_insert, arr[j - 1]):\n",
    "            arr[j] = arr[j-1]\n",
    "            j -= 1\n",
    "        arr[j] = item_to_insert\n",
    "    return ''.join(arr)\n",
    "\n",
    "\n",
    "def main() -> None:\n",
    "    n, arr = input_data()\n",
    "    res = algorithm(n, arr)\n",
    "    print(''.join(res))\n",
    "\n",
    "\n",
    "def test():\n",
    "    assert algorithm(3, ['15', '56', '2']) == '56215'\n",
    "    assert algorithm(3, ['1', '783', '2']) == '78321'\n",
    "    assert algorithm(5, ['2', '4', '5', '2', '10']) == '542210'\n",
    "    assert algorithm(6, ['9', '10', '1', '1', '1', '6']) == '9611110'\n",
    "\n",
    "\n",
    "if __name__ == '__main__':\n",
    "    # main()\n",
    "    test()"
   ],
   "metadata": {
    "collapsed": false
   }
  },
  {
   "cell_type": "markdown",
   "source": [
    "## N. Клумбы"
   ],
   "metadata": {
    "collapsed": false
   }
  },
  {
   "cell_type": "code",
   "execution_count": 3,
   "outputs": [],
   "source": [
    "from typing import Tuple, List\n",
    "\n",
    "\n",
    "def input_data() -> Tuple[int, List[List[int]]]:\n",
    "    n = int(input())\n",
    "    arr = [list(map(int, input().split())) for _ in range(n)]\n",
    "    return n, arr\n",
    "\n",
    "\n",
    "def algorithm(n: int, arr: List[List[int]]) -> List[List[int]]:\n",
    "    arr = sorted(arr)\n",
    "    res = []\n",
    "    start = arr[0][0]\n",
    "    end = arr[0][1]\n",
    "    for i in range(1, n):\n",
    "        if end < arr[i][0]:\n",
    "            res.append([start, end])\n",
    "            start = arr[i][0]\n",
    "            end = arr[i][1]\n",
    "        elif end < arr[i][1]:\n",
    "            end = arr[i][1]\n",
    "    res.append([start, end])\n",
    "    return res\n",
    "\n",
    "\n",
    "def test():\n",
    "    res = algorithm(4, [[7, 8], [7, 8], [2, 3], [6, 10]])\n",
    "    assert res == [[2, 3], [6, 10]]\n",
    "    res = algorithm(4, [[2, 3], [5, 6], [3, 4], [3, 4]])\n",
    "    assert res == [[2, 4], [5, 6]]\n",
    "\n",
    "\n",
    "def main() -> None:\n",
    "    n, arr = input_data()\n",
    "    res = algorithm(n, arr)\n",
    "    for i in res:\n",
    "        print(*i)\n",
    "\n",
    "\n",
    "if __name__ == '__main__':\n",
    "    # main()\n",
    "    test()"
   ],
   "metadata": {
    "collapsed": false
   }
  },
  {
   "cell_type": "markdown",
   "source": [
    "## C. Подпоследовательность"
   ],
   "metadata": {
    "collapsed": false
   }
  },
  {
   "cell_type": "code",
   "execution_count": 2,
   "outputs": [],
   "source": [
    "def input_data():\n",
    "    return input(), input()\n",
    "\n",
    "\n",
    "def subsequence(s, t):\n",
    "    position = -1\n",
    "    for i in s:\n",
    "        position = t.find(i, position + 1)\n",
    "        if position == - 1:\n",
    "            return False\n",
    "    return True\n",
    "\n",
    "\n",
    "def test():\n",
    "    assert subsequence('abc', 'ahbgdcu') is True\n",
    "    assert subsequence('abcp', 'ahpc') is False\n",
    "    assert subsequence(\n",
    "        'ijha',\n",
    "        'hmrqvftefyixinahlzgbkidroxiptbbkjmtwpsujevkulgrjiwiwzyhngulrodiwyg'\n",
    "    ) is False\n",
    "\n",
    "\n",
    "def main():\n",
    "    print(subsequence(*input_data()))\n",
    "\n",
    "\n",
    "if __name__ == '__main__':\n",
    "    # main()\n",
    "    test()"
   ],
   "metadata": {
    "collapsed": false
   }
  },
  {
   "cell_type": "markdown",
   "source": [
    "## K. Сортировка слиянием"
   ],
   "metadata": {
    "collapsed": false
   }
  },
  {
   "cell_type": "code",
   "execution_count": 38,
   "outputs": [],
   "source": [
    "def merge(arr: list, lf: int, mid: int, rg: int) -> list:\n",
    "    res = []\n",
    "    left = lf\n",
    "    right = mid\n",
    "    while left < mid and right < rg:\n",
    "        if arr[left] <= arr[right]:\n",
    "            res.append(arr[left])\n",
    "            left += 1\n",
    "        else:\n",
    "            res.append(arr[right])\n",
    "            right += 1\n",
    "    res += arr[left:mid] + arr[right:rg]\n",
    "    arr[lf:rg] = res\n",
    "    return arr\n",
    "\n",
    "\n",
    "def merge_sort(arr: list, lf: int, rg: int) -> None:\n",
    "    if rg - lf == 1:\n",
    "        return\n",
    "    mid = (lf + rg) // 2\n",
    "    merge_sort(arr, lf, mid)\n",
    "    merge_sort(arr, mid, rg)\n",
    "    merge(arr, lf, mid, rg)\n",
    "\n",
    "\n",
    "def test():\n",
    "    a = [1, 4, 9, 2, 10, 11]\n",
    "    b = merge(a, 0, 3, 6)\n",
    "    expected = [1, 2, 4, 9, 10, 11]\n",
    "    assert b == expected\n",
    "    c = [1, 4, 2, 10, 1, 2]\n",
    "    merge_sort(c, 0, 6)\n",
    "    expected = [1, 1, 2, 2, 4, 10]\n",
    "    assert c == expected"
   ],
   "metadata": {
    "collapsed": false
   }
  },
  {
   "cell_type": "markdown",
   "source": [
    "# G. Гардероб"
   ],
   "metadata": {
    "collapsed": false
   }
  },
  {
   "cell_type": "code",
   "execution_count": 50,
   "outputs": [
    {
     "name": "stdout",
     "output_type": "stream",
     "text": [
      "0 0 0 1 1 2 2\n"
     ]
    }
   ],
   "source": [
    "class Checkroom:\n",
    "    def __init__(self, n=None, arr=None):\n",
    "        self.n = n or input()\n",
    "        self.arr = arr or input().split()\n",
    "\n",
    "    def __call__(self, *args, **kwargs):\n",
    "        pivot = '1'\n",
    "        left = []\n",
    "        center = []\n",
    "        right = []\n",
    "        for i in self.arr:\n",
    "            if i < pivot:\n",
    "                left.append(i)\n",
    "            elif i == pivot:\n",
    "                center.append(i)\n",
    "            else:\n",
    "                right.append(i)\n",
    "        return left + center + right\n",
    "\n",
    "\n",
    "def main():\n",
    "    # a = Checkroom()\n",
    "    # print(*a())\n",
    "\n",
    "    a = Checkroom(5, ['0', '2', '1', '2', '0', '0', '1'])\n",
    "    print(*a())\n",
    "\n",
    "if __name__ == '__main__':\n",
    "    main()"
   ],
   "metadata": {
    "collapsed": false
   }
  },
  {
   "cell_type": "markdown",
   "source": [
    "# Финальные задачи (13 спринт)"
   ],
   "metadata": {
    "collapsed": false
   }
  },
  {
   "cell_type": "markdown",
   "source": [
    "## A. Поиск в сломанном массиве"
   ],
   "metadata": {
    "collapsed": false
   }
  },
  {
   "cell_type": "code",
   "execution_count": 1,
   "outputs": [],
   "source": [
    "# ID: 87120645\n",
    "\n",
    "\n",
    "def broken_search(nums, target, lf=0, r=None) -> int:\n",
    "    r = r or len(nums) - 1\n",
    "\n",
    "    if r < lf:\n",
    "        return -1\n",
    "    mid = (lf + r) // 2\n",
    "    if nums[mid] == target:\n",
    "        return mid\n",
    "\n",
    "    if nums[lf] <= nums[mid]:\n",
    "        if nums[lf] <= target < nums[mid]:\n",
    "            return broken_search(nums, target, lf, mid)\n",
    "        return broken_search(nums, target, mid + 1, r)\n",
    "\n",
    "    if nums[mid] < target <= nums[r]:\n",
    "        return broken_search(nums, target, mid + 1, r)\n",
    "    return broken_search(nums, target, lf, mid)\n",
    "\n",
    "\n",
    "def test():\n",
    "    arr = [19, 21, 100, 101, 1, 4, 5, 7, 12]\n",
    "    assert broken_search(arr, 5) == 6\n",
    "    arr = [100, 101, 1, 4, 5, 7, 12, 19, 21]\n",
    "    assert broken_search(arr, 5) == 4\n",
    "    arr = [5, 1]\n",
    "    assert broken_search(arr, 1) == 1\n",
    "    arr = [5, 1]\n",
    "    assert broken_search(arr, 6) == -1\n",
    "    arr = [3, 5, 6, 7, 9, 1, 2]\n",
    "    assert broken_search(arr, 4) == -1\n",
    "    arr = [1]\n",
    "    assert broken_search(arr, 1) == 0\n",
    "    arr = [1, 2, 3, 5, 6, 7, 9, 0]\n",
    "    assert broken_search(arr, 3) == 2\n",
    "    arr = [3271, 3298, 3331, 3397, 3407, 3524, 3584, 3632, 3734, 3797, 3942, 4000, 4180, 4437, 4464, 4481, 4525, 4608, 4645, 4803, 4804, 4884, 4931, 4965, 5017, 5391, 5453, 5472, 5671, 5681, 5959, 6045, 6058, 6301, 6529, 6621, 6961, 7219, 7291, 7372, 7425, 7517, 7600, 7731, 7827, 7844, 7987, 8158, 8169, 8265, 8353, 8519, 8551, 8588, 8635, 9209, 9301, 9308, 9336, 9375, 9422, 9586, 9620, 9752, 9776, 9845, 9906, 9918, 16, 25, 45, 152, 199, 309, 423, 614, 644, 678, 681, 725, 825, 830, 936, 1110, 1333, 1413, 1617, 1895, 1938, 2107, 2144, 2184, 2490, 2517, 2769, 2897, 2970, 3023, 3112, 3156]\n",
    "    assert broken_search(arr, 25) == 69\n"
   ],
   "metadata": {
    "collapsed": false
   }
  },
  {
   "cell_type": "markdown",
   "source": [
    "# B. Эффективная быстрая сортировка"
   ],
   "metadata": {
    "collapsed": false
   }
  },
  {
   "cell_type": "code",
   "execution_count": null,
   "outputs": [],
   "source": [
    "# from typing import Tuple, List\n",
    "#\n",
    "# def input_data() -> Tuple[int, List[Tuple[str, int, int]]]:\n",
    "#     n = int(input())\n",
    "#     arr = [input().split() for _ in range(n)]\n",
    "#     arr = list(map(lambda x: (x[0], int(x[1]), int(x[2])), arr))\n",
    "#     return n, arr\n",
    "#\n",
    "# def less(obj_1: tuple, obj_2: tuple) -> bool:\n",
    "#     return (-obj_1[1], obj_1[2], obj_1[0]) < (-obj_2[1], obj_2[2], obj_2[0])\n",
    "#\n",
    "#\n",
    "# def partition(arr: list, low: int, high: int) -> Tuple[int, int]:\n",
    "#     pivot = arr[(low + high) // 2]\n",
    "#     while low <= high:\n",
    "#         while less(arr[low], pivot):\n",
    "#             low += 1\n",
    "#         while less(pivot, arr[high]):\n",
    "#             high -= 1\n",
    "#         if low <= high:\n",
    "#             arr[low], arr[high] = arr[high], arr[low]\n",
    "#             low += 1\n",
    "#             high -= 1\n",
    "#     return low, high\n",
    "#\n",
    "#\n",
    "# def quicksort(arr: list, low: int, high: int) -> None:\n",
    "#     if high <= low:\n",
    "#         return\n",
    "#     else:\n",
    "#         left, right = partition(arr, low, high)\n",
    "#         quicksort(arr, low, right)\n",
    "#         quicksort(arr, left, high)\n",
    "#\n",
    "#\n",
    "# def main():\n",
    "#     n, arr = input_data()\n",
    "#     quicksort(arr, 0, n - 1)\n",
    "#     for i in arr:\n",
    "#         print(i[0])\n",
    "#\n",
    "#\n",
    "# if __name__ == '__main__':\n",
    "#     main()\n",
    "\n",
    "\n",
    "from typing import Tuple, List\n",
    "\n",
    "\n",
    "class Member:\n",
    "    def __init__(self, login: str, task: str, fine: str):\n",
    "        self.login: str = login\n",
    "        self.task: int = int(task)\n",
    "        self.fine: int = int(fine)\n",
    "\n",
    "    def __lt__(self, other):\n",
    "        obj_1 = (- self.task, self.fine, self.login)\n",
    "        obj_2 = (- other.task, other.fine, other.login)\n",
    "        return obj_1 < obj_2\n",
    "\n",
    "    def __gt__(self, other):\n",
    "        obj_1 = (- self.task, self.fine, self.login)\n",
    "        obj_2 = (- other.task, other.fine, other.login)\n",
    "        return obj_1 > obj_2\n",
    "\n",
    "    def __str__(self):\n",
    "        return self.login\n",
    "\n",
    "\n",
    "def input_data() -> Tuple[int, List[Member]]:\n",
    "    n = int(input())\n",
    "    arr = [Member(*input().split()) for _ in range(n)]\n",
    "    return n, arr\n",
    "\n",
    "\n",
    "def partition(arr: list, low: int, high: int) -> Tuple[int, int]:\n",
    "    pivot = arr[(low + high) // 2]\n",
    "    while low <= high:\n",
    "        while arr[low] < pivot:\n",
    "            low += 1\n",
    "        while arr[high] > pivot:\n",
    "            high -= 1\n",
    "        if low <= high:\n",
    "            arr[low], arr[high] = arr[high], arr[low]\n",
    "            low += 1\n",
    "            high -= 1\n",
    "    return low, high\n",
    "\n",
    "\n",
    "def quicksort(arr: list, low: int, high: int) -> None:\n",
    "    if high <= low:\n",
    "        return\n",
    "    else:\n",
    "        left, right = partition(arr, low, high)\n",
    "        quicksort(arr, low, right)\n",
    "        quicksort(arr, left, high)\n",
    "\n",
    "\n",
    "def main() -> None:\n",
    "    n, arr = input_data()\n",
    "    quicksort(arr, 0, n - 1)\n",
    "    print(*arr, sep='\\n')\n",
    "\n",
    "\n",
    "if __name__ == '__main__':\n",
    "    main()"
   ],
   "metadata": {
    "collapsed": false,
    "pycharm": {
     "is_executing": true
    }
   }
  }
 ],
 "metadata": {
  "kernelspec": {
   "display_name": "Python 3",
   "language": "python",
   "name": "python3"
  },
  "language_info": {
   "codemirror_mode": {
    "name": "ipython",
    "version": 2
   },
   "file_extension": ".py",
   "mimetype": "text/x-python",
   "name": "python",
   "nbconvert_exporter": "python",
   "pygments_lexer": "ipython2",
   "version": "2.7.6"
  }
 },
 "nbformat": 4,
 "nbformat_minor": 0
}
